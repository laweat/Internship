{
 "cells": [
  {
   "cell_type": "code",
   "execution_count": null,
   "id": "19677ac9-a36e-48e4-ba12-6774857a4713",
   "metadata": {},
   "outputs": [],
   "source": [
    "import pandas as pd\n",
    "from datetime import datetime\n",
    "import warnings\n",
    "import matplotlib.pyplot as plt\n",
    "import numpy as np\n",
    "from urllib import parse\n",
    "warnings.filterwarnings(\"ignore\")\n",
    "plt.rc('font', family='Malgun Gothic')\n",
    "%matplotlib inline"
   ]
  },
  {
   "cell_type": "code",
   "execution_count": null,
   "id": "f6046d14-8c34-49b8-9c98-95921d6f7739",
   "metadata": {},
   "outputs": [],
   "source": [
    "word1011 = pd.read_csv(\"1011Log.csv\")\n",
    "word1011 = word1011[\"경로\"]"
   ]
  },
  {
   "cell_type": "code",
   "execution_count": null,
   "id": "fc47cdbf-be8e-4458-9cbd-02d9edd955f2",
   "metadata": {},
   "outputs": [],
   "source": [
    "dfList = []\n",
    "for i in range(len(word1011)):\n",
    "    #검색기록 없으면 nan처리\n",
    "    if word1011.str.find('search=')[i] == -1 and word1011.str.find('search_multi_match=')[i] == -1 :\n",
    "        word1011[i] = np.nan\n",
    "    #검색이 search = , search_multi_match= 두가지 경우가 있음\n",
    "    else:\n",
    "        #url만 자르기\n",
    "        endPoint = int(word1011.str.find(\"?\")[i])\n",
    "        url = word1011[i][:endPoint]\n",
    "        \n",
    "        #검색기록만 자르기\n",
    "        if int(word1011.str.find('search=')[i]) == -1:\n",
    "            start = int(word1011.str.find('search_multi_match=')[i] +19)\n",
    "        else:\n",
    "            start = int(word1011.str.find('search=')[i] + 7)\n",
    "        word1011[i] = word1011[i][start:]\n",
    "    \n",
    "        if int(word1011.str.find(\"&\")[i]) == -1:\n",
    "            end = int(word1011.str.find(\" HTTP/1.1\")[i])\n",
    "        else:\n",
    "            end = int(word1011.str.find(\"&\")[i])\n",
    "        keyword = word1011[i][:end]\n",
    "    \n",
    "        df = pd.DataFrame({\n",
    "            \"url\":url,\n",
    "            \"검색어\":keyword \n",
    "            },index = [i])\n",
    "        \n",
    "        dfList.append(df)\n",
    "    if i % 1000 == 0:\n",
    "        print(i)\n",
    "        \n",
    "fianl1011 = pd.concat(dfList)\n",
    "\n",
    "#csv파일 저장\n",
    "fianl1011.to_csv(\"fianl1011.csv\", index=False, encoding=\"utf-8-sig\")"
   ]
  }
 ],
 "metadata": {
  "kernelspec": {
   "display_name": "Python 3",
   "language": "python",
   "name": "python3"
  },
  "language_info": {
   "codemirror_mode": {
    "name": "ipython",
    "version": 3
   },
   "file_extension": ".py",
   "mimetype": "text/x-python",
   "name": "python",
   "nbconvert_exporter": "python",
   "pygments_lexer": "ipython3",
   "version": "3.8.8"
  }
 },
 "nbformat": 4,
 "nbformat_minor": 5
}
