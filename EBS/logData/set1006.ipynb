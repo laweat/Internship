{
 "cells": [
  {
   "cell_type": "code",
   "execution_count": 1,
   "id": "501d096c-17ca-4e0f-8a16-316cb9be8b8b",
   "metadata": {},
   "outputs": [],
   "source": [
    "import pandas as pd\n",
    "from datetime import datetime\n",
    "import warnings\n",
    "import matplotlib.pyplot as plt\n",
    "import numpy as np\n",
    "from urllib import parse\n",
    "warnings.filterwarnings(\"ignore\")\n",
    "plt.rc('font', family='Malgun Gothic')\n",
    "%matplotlib inline"
   ]
  },
  {
   "cell_type": "code",
   "execution_count": 2,
   "id": "12f9298a-c7b3-48e7-a2aa-fd8d69d2e6d0",
   "metadata": {},
   "outputs": [],
   "source": [
    "word1006 = pd.read_csv(\"1006Log.csv\")\n",
    "word1006 = word1006[\"경로\"]"
   ]
  },
  {
   "cell_type": "code",
   "execution_count": null,
   "id": "1cdb176c-59cc-484d-95d0-0211ae9134ef",
   "metadata": {},
   "outputs": [
    {
     "name": "stdout",
     "output_type": "stream",
     "text": [
      "0\n",
      "1000\n"
     ]
    }
   ],
   "source": [
    "dfList = []\n",
    "for i in range(len(word1006)):\n",
    "    #검색기록 없으면 nan처리\n",
    "    if word1006.str.find('search=')[i] == -1 and word1006.str.find('search_multi_match=')[i] == -1 :\n",
    "        word1006[i] = np.nan\n",
    "    #검색이 search = , search_multi_match= 두가지 경우가 있음\n",
    "    else:\n",
    "        #url만 자르기\n",
    "        endPoint = int(word1006.str.find(\"?\")[i])\n",
    "        url = word1006[i][:endPoint]\n",
    "        \n",
    "        #검색기록만 자르기\n",
    "        if int(word1006.str.find('search=')[i]) == -1:\n",
    "            start = int(word1006.str.find('search_multi_match=')[i] +19)\n",
    "        else:\n",
    "            start = int(word1006.str.find('search=')[i] + 7)\n",
    "        word1006[i] = word1006[i][start:]\n",
    "    \n",
    "        if int(word1006.str.find(\"&\")[i]) == -1:\n",
    "            end = int(word1006.str.find(\" HTTP/1.1\")[i])\n",
    "        else:\n",
    "            end = int(word1006.str.find(\"&\")[i])\n",
    "        keyword = word1006[i][:end]\n",
    "    \n",
    "        df = pd.DataFrame({\n",
    "            \"url\":url,\n",
    "            \"검색어\":keyword \n",
    "            },index = [i])\n",
    "        \n",
    "        dfList.append(df)\n",
    "    if i % 1000 == 0:\n",
    "        print(i)\n",
    "        \n",
    "fianl1006 = pd.concat(dfList)\n",
    "\n",
    "#csv파일 저장\n",
    "fianl1006.to_csv(\"fianl1006.csv\", index=False, encoding=\"utf-8-sig\")"
   ]
  },
  {
   "cell_type": "code",
   "execution_count": null,
   "id": "ce5eac9b-d993-4950-9fe7-428dfa67d92a",
   "metadata": {},
   "outputs": [],
   "source": []
  },
  {
   "cell_type": "code",
   "execution_count": null,
   "id": "172d6b97-1d3b-4889-a949-083c89ae8633",
   "metadata": {},
   "outputs": [],
   "source": []
  },
  {
   "cell_type": "code",
   "execution_count": null,
   "id": "d91c2e00-9aa4-4709-888f-babefc20cae6",
   "metadata": {},
   "outputs": [],
   "source": []
  }
 ],
 "metadata": {
  "kernelspec": {
   "display_name": "Python 3",
   "language": "python",
   "name": "python3"
  },
  "language_info": {
   "codemirror_mode": {
    "name": "ipython",
    "version": 3
   },
   "file_extension": ".py",
   "mimetype": "text/x-python",
   "name": "python",
   "nbconvert_exporter": "python",
   "pygments_lexer": "ipython3",
   "version": "3.8.8"
  }
 },
 "nbformat": 4,
 "nbformat_minor": 5
}
