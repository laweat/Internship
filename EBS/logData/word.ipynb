{
 "cells": [
  {
   "cell_type": "code",
   "execution_count": 1,
   "id": "e10d3ce5-d863-4134-bda1-2d8c7553d1ae",
   "metadata": {},
   "outputs": [],
   "source": [
    "import pandas as pd\n",
    "from datetime import datetime\n",
    "import warnings\n",
    "import matplotlib.pyplot as plt\n",
    "import numpy as np\n",
    "from urllib import parse\n",
    "warnings.filterwarnings(\"ignore\")\n",
    "plt.rc('font', family='Malgun Gothic')\n",
    "%matplotlib inline"
   ]
  },
  {
   "cell_type": "code",
   "execution_count": 2,
   "id": "da1a2fe6-594c-4fd3-b98f-ce89a77937c4",
   "metadata": {},
   "outputs": [],
   "source": [
    "word1005 = pd.read_csv(\"1005Log.csv\")\n",
    "word1006 = pd.read_csv(\"1006Log.csv\")\n",
    "word1007 = pd.read_csv(\"1007Log.csv\")\n",
    "word1008 = pd.read_csv(\"1008Log.csv\")\n",
    "word1009 = pd.read_csv(\"1009Log.csv\")\n",
    "word1010 = pd.read_csv(\"1010Log.csv\")\n",
    "word1011 = pd.read_csv(\"1011Log.csv\")"
   ]
  },
  {
   "cell_type": "code",
   "execution_count": 3,
   "id": "a1d15eac-b456-4255-aea1-fb3c918537ad",
   "metadata": {},
   "outputs": [],
   "source": [
    "word1005 = word1005[[\"IP 주소(요청자)\",\"경로\"]]\n",
    "word1006 = word1006[[\"IP 주소(요청자)\",\"경로\"]]\n",
    "word1007 = word1007[[\"IP 주소(요청자)\",\"경로\"]]\n",
    "word1008 = word1008[[\"IP 주소(요청자)\",\"경로\"]]\n",
    "word1009 = word1009[[\"IP 주소(요청자)\",\"경로\"]]\n",
    "word1010 = word1010[[\"IP 주소(요청자)\",\"경로\"]]\n",
    "word1011 = word1011[[\"IP 주소(요청자)\",\"경로\"]]"
   ]
  },
  {
   "cell_type": "code",
   "execution_count": null,
   "id": "8832b9c6-ae3e-4dd4-b90f-59667381a4bd",
   "metadata": {},
   "outputs": [],
   "source": [
    "for i in range(len(word1005)):\n",
    "    if word1005['경로'].str.find('search_multi_match=')[i] == -1:\n",
    "        word1005[\"경로\"][i] = np.nan\n",
    "    else:\n",
    "        start =  int(word1005['경로'].str.find('search_multi_match=')[i] +19)\n",
    "        word1005['경로'][i] = word1005['경로'][i][start:]\n",
    "        if int(word1005['경로'].str.find(\"&\")[i]) == -1:\n",
    "            end = int(word1005['경로'].str.find(\" HTTP/1.1\")[i])\n",
    "        else:\n",
    "            end = int(word1005['경로'].str.find(\"&\")[i])\n",
    "        word1005['경로'][i] = word1005['경로'][i][:end]"
   ]
  },
  {
   "cell_type": "code",
   "execution_count": null,
   "id": "50e3a02a-6c10-4137-9449-0a6b0be0ee3e",
   "metadata": {},
   "outputs": [],
   "source": [
    "word1005.to_csv(\"word1005.csv\", index=False, encoding=\"utf-8-sig\")"
   ]
  },
  {
   "cell_type": "code",
   "execution_count": null,
   "id": "eb1a8da4-9a35-4ce7-b9ce-84243f0e3da2",
   "metadata": {},
   "outputs": [],
   "source": [
    "for i in range(len(word1006)):\n",
    "    if word1006['경로'].str.find('search_multi_match=')[i] == -1:\n",
    "        word1006[\"경로\"][i] = np.nan\n",
    "    else:\n",
    "        start =  int(word1006['경로'].str.find('search_multi_match=')[i] +19)\n",
    "        word1006['경로'][i] = word1006['경로'][i][start:]\n",
    "        if int(word1006['경로'].str.find(\"&\")[i]) == -1:\n",
    "            end = int(word1006['경로'].str.find(\" HTTP/1.1\")[i])\n",
    "        else:\n",
    "            end = int(word1006['경로'].str.find(\"&\")[i])\n",
    "        word1006['경로'][i] = word1006['경로'][i][:end]"
   ]
  },
  {
   "cell_type": "code",
   "execution_count": null,
   "id": "6fd62c9b-bb2c-4c05-acd6-d368804b27df",
   "metadata": {},
   "outputs": [],
   "source": [
    "word1006.to_csv(\"word1006.csv\", index=False, encoding=\"utf-8-sig\")"
   ]
  },
  {
   "cell_type": "code",
   "execution_count": null,
   "id": "71a05db5-0d6a-4cae-b605-e74460367cdf",
   "metadata": {},
   "outputs": [],
   "source": [
    "for i in range(len(word1007)):\n",
    "    if word1007['경로'].str.find('search_multi_match=')[i] == -1:\n",
    "        word1007[\"경로\"][i] = np.nan\n",
    "    else:\n",
    "        start =  int(word1007['경로'].str.find('search_multi_match=')[i] +19)\n",
    "        word1007['경로'][i] = word1007['경로'][i][start:]\n",
    "        if int(word1007['경로'].str.find(\"&\")[i]) == -1:\n",
    "            end = int(word1007['경로'].str.find(\" HTTP/1.1\")[i])\n",
    "        else:\n",
    "            end = int(word1007['경로'].str.find(\"&\")[i])\n",
    "        word1007['경로'][i] = word1007['경로'][i][:end]"
   ]
  },
  {
   "cell_type": "code",
   "execution_count": null,
   "id": "23579074-666d-46d4-9e84-73a304bd6110",
   "metadata": {},
   "outputs": [],
   "source": [
    "word1007.to_csv(\"word1007.csv\", index=False, encoding=\"utf-8-sig\")"
   ]
  },
  {
   "cell_type": "code",
   "execution_count": null,
   "id": "de9cd14b-c734-4373-9664-ad2798ea950b",
   "metadata": {},
   "outputs": [],
   "source": [
    "for i in range(len(word1008)):\n",
    "    if word1008['경로'].str.find('search_multi_match=')[i] == -1:\n",
    "        word1008[\"경로\"][i] = np.nan\n",
    "    else:\n",
    "        start =  int(word1008['경로'].str.find('search_multi_match=')[i] +19)\n",
    "        word1008['경로'][i] = word1008['경로'][i][start:]\n",
    "        if int(word1008['경로'].str.find(\"&\")[i]) == -1:\n",
    "            end = int(word1008['경로'].str.find(\" HTTP/1.1\")[i])\n",
    "        else:\n",
    "            end = int(word1008['경로'].str.find(\"&\")[i])\n",
    "        word1008['경로'][i] = word1008['경로'][i][:end]"
   ]
  },
  {
   "cell_type": "code",
   "execution_count": null,
   "id": "5d8fd3ac-ca56-4e0c-a38b-e4a7c81ae758",
   "metadata": {},
   "outputs": [],
   "source": [
    "word1008.to_csv(\"word1008.csv\", index=False, encoding=\"utf-8-sig\")"
   ]
  },
  {
   "cell_type": "code",
   "execution_count": null,
   "id": "ec606ed7-bb7a-468a-b455-ef1c16b987a7",
   "metadata": {},
   "outputs": [],
   "source": [
    "for i in range(len(word1009)):\n",
    "    if word1009['경로'].str.find('search_multi_match=')[i] == -1:\n",
    "        word1009[\"경로\"][i] = np.nan\n",
    "    else:\n",
    "        start =  int(word1009['경로'].str.find('search_multi_match=')[i] +19)\n",
    "        word1009['경로'][i] = word1009['경로'][i][start:]\n",
    "        if int(word1009['경로'].str.find(\"&\")[i]) == -1:\n",
    "            end = int(word1009['경로'].str.find(\" HTTP/1.1\")[i])\n",
    "        else:\n",
    "            end = int(word1009['경로'].str.find(\"&\")[i])\n",
    "        word1009['경로'][i] = word1009['경로'][i][:end]"
   ]
  },
  {
   "cell_type": "code",
   "execution_count": null,
   "id": "efa2d634-2401-4eb2-ae3b-f1f95cc90a26",
   "metadata": {},
   "outputs": [],
   "source": [
    "word1009.to_csv(\"word1009.csv\", index=False, encoding=\"utf-8-sig\")"
   ]
  },
  {
   "cell_type": "code",
   "execution_count": null,
   "id": "bd4c5b81-5962-492e-aeb0-678afe241477",
   "metadata": {},
   "outputs": [],
   "source": [
    "for i in range(len(word1010)):\n",
    "    if word1010['경로'].str.find('search_multi_match=')[i] == -1:\n",
    "        word1010[\"경로\"][i] = np.nan\n",
    "    else:\n",
    "        start =  int(word1010['경로'].str.find('search_multi_match=')[i] +19)\n",
    "        word1010['경로'][i] = word1010['경로'][i][start:]\n",
    "        if int(word1010['경로'].str.find(\"&\")[i]) == -1:\n",
    "            end = int(word1010['경로'].str.find(\" HTTP/1.1\")[i])\n",
    "        else:\n",
    "            end = int(word1010['경로'].str.find(\"&\")[i])\n",
    "        word1010['경로'][i] = word1010['경로'][i][:end]"
   ]
  },
  {
   "cell_type": "code",
   "execution_count": null,
   "id": "11134f9d-29b2-4bb1-94ea-fe47a115bbfd",
   "metadata": {},
   "outputs": [],
   "source": [
    "word1010.to_csv(\"word1010.csv\", index=False, encoding=\"utf-8-sig\")"
   ]
  },
  {
   "cell_type": "code",
   "execution_count": null,
   "id": "7b6ae455-ff2f-42fa-844a-3ffbdd48db46",
   "metadata": {},
   "outputs": [],
   "source": [
    "for i in range(len(word1011)):\n",
    "    if word1011['경로'].str.find('search_multi_match=')[i] == -1:\n",
    "        word1011[\"경로\"][i] = np.nan\n",
    "    else:\n",
    "        start =  int(word1011['경로'].str.find('search_multi_match=')[i] +19)\n",
    "        word1011['경로'][i] = word1011['경로'][i][start:]\n",
    "        if int(word1011['경로'].str.find(\"&\")[i]) == -1:\n",
    "            end = int(word1011['경로'].str.find(\" HTTP/1.1\")[i])\n",
    "        else:\n",
    "            end = int(word1011['경로'].str.find(\"&\")[i])\n",
    "        word1011['경로'][i] = word1011['경로'][i][:end]"
   ]
  },
  {
   "cell_type": "code",
   "execution_count": null,
   "id": "10f9ac8e-7035-4b87-bc56-75c0c3c9466a",
   "metadata": {},
   "outputs": [],
   "source": [
    "word1011.to_csv(\"word1011.csv\", index=False, encoding=\"utf-8-sig\")"
   ]
  },
  {
   "cell_type": "code",
   "execution_count": null,
   "id": "498eb474-c8b5-4105-904f-20d3e49e2745",
   "metadata": {},
   "outputs": [],
   "source": [
    "#검색 단어만 추출(10월05일)\n",
    "\n",
    "word1005 = word1005.dropna()\n",
    "word1005 = word1005.reset_index(drop=True)\n",
    "words1005 = [tmp[\"경로\"][0]] #단어만 따로 분리\n",
    "\n",
    "for i in range(1,len(word1005)):\n",
    "    if words1005[-1] == word1005[\"경로\"][i]:\n",
    "        continue\n",
    "    else:\n",
    "        words.append(word1005[\"경로\"][i])"
   ]
  }
 ],
 "metadata": {
  "kernelspec": {
   "display_name": "Python 3",
   "language": "python",
   "name": "python3"
  },
  "language_info": {
   "codemirror_mode": {
    "name": "ipython",
    "version": 3
   },
   "file_extension": ".py",
   "mimetype": "text/x-python",
   "name": "python",
   "nbconvert_exporter": "python",
   "pygments_lexer": "ipython3",
   "version": "3.8.8"
  }
 },
 "nbformat": 4,
 "nbformat_minor": 5
}
