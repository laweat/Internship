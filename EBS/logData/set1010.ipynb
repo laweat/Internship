{
 "cells": [
  {
   "cell_type": "code",
   "execution_count": null,
   "id": "fbb1a3a6-6c18-4bee-bb0c-fcbf1f3ac7f8",
   "metadata": {},
   "outputs": [],
   "source": [
    "import pandas as pd\n",
    "from datetime import datetime\n",
    "import warnings\n",
    "import matplotlib.pyplot as plt\n",
    "import numpy as np\n",
    "from urllib import parse\n",
    "warnings.filterwarnings(\"ignore\")\n",
    "plt.rc('font', family='Malgun Gothic')\n",
    "%matplotlib inline"
   ]
  },
  {
   "cell_type": "code",
   "execution_count": null,
   "id": "d66abfc6-754b-489e-b10a-3c08de4dacaa",
   "metadata": {},
   "outputs": [],
   "source": [
    "word1010 = pd.read_csv(\"1010Log.csv\")\n",
    "word1010 = word1010[\"경로\"]"
   ]
  },
  {
   "cell_type": "code",
   "execution_count": null,
   "id": "d1c7a33d-4255-44aa-b20b-08e5e88f4b70",
   "metadata": {},
   "outputs": [],
   "source": [
    "dfList = []\n",
    "for i in range(len(word1010)):\n",
    "    #검색기록 없으면 nan처리\n",
    "    if word1010.str.find('search=')[i] == -1 and word1010.str.find('search_multi_match=')[i] == -1 :\n",
    "        word1010[i] = np.nan\n",
    "    #검색이 search = , search_multi_match= 두가지 경우가 있음\n",
    "    else:\n",
    "        #url만 자르기\n",
    "        endPoint = int(word1010.str.find(\"?\")[i])\n",
    "        url = word1010[i][:endPoint]\n",
    "        \n",
    "        #검색기록만 자르기\n",
    "        if int(word1010.str.find('search=')[i]) == -1:\n",
    "            start = int(word1010.str.find('search_multi_match=')[i] +19)\n",
    "        else:\n",
    "            start = int(word1010.str.find('search=')[i] + 7)\n",
    "        word1010[i] = word1010[i][start:]\n",
    "    \n",
    "        if int(word1010.str.find(\"&\")[i]) == -1:\n",
    "            end = int(word1010.str.find(\" HTTP/1.1\")[i])\n",
    "        else:\n",
    "            end = int(word1010.str.find(\"&\")[i])\n",
    "        keyword = word1010[i][:end]\n",
    "    \n",
    "        df = pd.DataFrame({\n",
    "            \"url\":url,\n",
    "            \"검색어\":keyword \n",
    "            },index = [i])\n",
    "        \n",
    "        dfList.append(df)\n",
    "    if i % 1000 == 0:\n",
    "        print(i)\n",
    "        \n",
    "fianl1010 = pd.concat(dfList)\n",
    "\n",
    "#csv파일 저장\n",
    "fianl1010.to_csv(\"fianl1010.csv\", index=False, encoding=\"utf-8-sig\")"
   ]
  }
 ],
 "metadata": {
  "kernelspec": {
   "display_name": "Python 3",
   "language": "python",
   "name": "python3"
  },
  "language_info": {
   "codemirror_mode": {
    "name": "ipython",
    "version": 3
   },
   "file_extension": ".py",
   "mimetype": "text/x-python",
   "name": "python",
   "nbconvert_exporter": "python",
   "pygments_lexer": "ipython3",
   "version": "3.8.8"
  }
 },
 "nbformat": 4,
 "nbformat_minor": 5
}
