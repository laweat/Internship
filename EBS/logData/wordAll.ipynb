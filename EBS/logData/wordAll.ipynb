{
 "cells": [
  {
   "cell_type": "code",
   "execution_count": 1,
   "id": "8295e40d-a7a9-4716-98ec-2c69172bdf3d",
   "metadata": {},
   "outputs": [],
   "source": [
    "import pandas as pd\n",
    "from datetime import datetime\n",
    "import warnings\n",
    "import matplotlib.pyplot as plt\n",
    "from urllib import parse\n",
    "from collections import Counter\n",
    "warnings.filterwarnings(\"ignore\")\n",
    "plt.rc('font', family='Malgun Gothic')\n",
    "%matplotlib inline"
   ]
  },
  {
   "cell_type": "code",
   "execution_count": 2,
   "id": "98773954-bf78-4415-9f0f-0b885e7010d6",
   "metadata": {},
   "outputs": [],
   "source": [
    "#10월 8일 ~ 10월 11일"
   ]
  },
  {
   "cell_type": "code",
   "execution_count": 3,
   "id": "e4c300c7-aae0-4e00-9f2a-6ec01c3f43c1",
   "metadata": {},
   "outputs": [],
   "source": [
    "wordCnt8 = pd.read_csv('fianl1008.csv') \n",
    "wordCnt9 = pd.read_csv('fianl1009.csv') \n",
    "wordCnt10 = pd.read_csv('fianl1010.csv') \n",
    "wordCnt11 = pd.read_csv('fianl1011.csv') "
   ]
  },
  {
   "cell_type": "code",
   "execution_count": 5,
   "id": "19a4c10e-bae5-419d-89c3-6d2a59677abc",
   "metadata": {},
   "outputs": [
    {
     "name": "stdout",
     "output_type": "stream",
     "text": [
      "290076\n",
      "240286\n",
      "223855\n",
      "242858\n"
     ]
    }
   ],
   "source": [
    "print(len(wordCnt8))\n",
    "print(len(wordCnt9))\n",
    "print(len(wordCnt10))\n",
    "print(len(wordCnt11))\n"
   ]
  },
  {
   "cell_type": "code",
   "execution_count": 8,
   "id": "a4fe122f-4950-48aa-a3fe-3ce850a2a633",
   "metadata": {},
   "outputs": [
    {
     "data": {
      "text/html": [
       "<div>\n",
       "<style scoped>\n",
       "    .dataframe tbody tr th:only-of-type {\n",
       "        vertical-align: middle;\n",
       "    }\n",
       "\n",
       "    .dataframe tbody tr th {\n",
       "        vertical-align: top;\n",
       "    }\n",
       "\n",
       "    .dataframe thead th {\n",
       "        text-align: right;\n",
       "    }\n",
       "</style>\n",
       "<table border=\"1\" class=\"dataframe\">\n",
       "  <thead>\n",
       "    <tr style=\"text-align: right;\">\n",
       "      <th></th>\n",
       "      <th>url</th>\n",
       "      <th>검색어</th>\n",
       "    </tr>\n",
       "  </thead>\n",
       "  <tbody>\n",
       "    <tr>\n",
       "      <th>0</th>\n",
       "      <td>h-lecture/</td>\n",
       "      <td>2022</td>\n",
       "    </tr>\n",
       "    <tr>\n",
       "      <th>1</th>\n",
       "      <td>h-vod/</td>\n",
       "      <td>2021수능</td>\n",
       "    </tr>\n",
       "    <tr>\n",
       "      <th>2</th>\n",
       "      <td>cmp/main-relate/</td>\n",
       "      <td>2016 수능 윤리와 사상</td>\n",
       "    </tr>\n",
       "    <tr>\n",
       "      <th>3</th>\n",
       "      <td>cmp/main-relate/</td>\n",
       "      <td>2021수능</td>\n",
       "    </tr>\n",
       "    <tr>\n",
       "      <th>4</th>\n",
       "      <td>p-course/</td>\n",
       "      <td>6학년 수학</td>\n",
       "    </tr>\n",
       "    <tr>\n",
       "      <th>...</th>\n",
       "      <td>...</td>\n",
       "      <td>...</td>\n",
       "    </tr>\n",
       "    <tr>\n",
       "      <th>242853</th>\n",
       "      <td>h-community/</td>\n",
       "      <td>화법과작문</td>\n",
       "    </tr>\n",
       "    <tr>\n",
       "      <th>242854</th>\n",
       "      <td>mat-mov/</td>\n",
       "      <td>6회 펜토미노가 심쿵해</td>\n",
       "    </tr>\n",
       "    <tr>\n",
       "      <th>242855</th>\n",
       "      <td>cmp/ark-mid/</td>\n",
       "      <td>마이그래</td>\n",
       "    </tr>\n",
       "    <tr>\n",
       "      <th>242856</th>\n",
       "      <td>mat-mov/</td>\n",
       "      <td>6회 돌도끼 수학 [1-3] 나눗셈(2)</td>\n",
       "    </tr>\n",
       "    <tr>\n",
       "      <th>242857</th>\n",
       "      <td>cmp/ark-mid/</td>\n",
       "      <td>마이그램</td>\n",
       "    </tr>\n",
       "  </tbody>\n",
       "</table>\n",
       "<p>997075 rows × 2 columns</p>\n",
       "</div>"
      ],
      "text/plain": [
       "                     url                     검색어\n",
       "0             h-lecture/                    2022\n",
       "1                 h-vod/                  2021수능\n",
       "2       cmp/main-relate/          2016 수능 윤리와 사상\n",
       "3       cmp/main-relate/                  2021수능\n",
       "4              p-course/                  6학년 수학\n",
       "...                  ...                     ...\n",
       "242853      h-community/                   화법과작문\n",
       "242854          mat-mov/            6회 펜토미노가 심쿵해\n",
       "242855      cmp/ark-mid/                    마이그래\n",
       "242856          mat-mov/  6회 돌도끼 수학 [1-3] 나눗셈(2)\n",
       "242857      cmp/ark-mid/                    마이그램\n",
       "\n",
       "[997075 rows x 2 columns]"
      ]
     },
     "execution_count": 8,
     "metadata": {},
     "output_type": "execute_result"
    }
   ],
   "source": [
    "allWowd = pd.concat([wordCnt8,wordCnt9,wordCnt10,wordCnt11])\n",
    "allWowd"
   ]
  },
  {
   "cell_type": "code",
   "execution_count": 9,
   "id": "01aa8e01-f919-46b8-b280-2fa23d469861",
   "metadata": {},
   "outputs": [
    {
     "data": {
      "text/plain": [
       "cmp/ark-mid/           111767\n",
       "cmp/main-relate/        82515\n",
       "cmp/ark-pms/            75747\n",
       "h-ibsi/                 44684\n",
       "h-lecture/              40128\n",
       "                        ...  \n",
       "main-play-char-kid/       484\n",
       "main-home-news/           451\n",
       "p-history/                438\n",
       "p-social/                 118\n",
       "cmp/main-rcmd/             12\n",
       "Name: url, Length: 78, dtype: int64"
      ]
     },
     "execution_count": 9,
     "metadata": {},
     "output_type": "execute_result"
    }
   ],
   "source": [
    "# url별 검색 수 및 빈도수 알아보기 \n",
    "\n",
    "allWowd[\"url\"].value_counts()"
   ]
  },
  {
   "cell_type": "code",
   "execution_count": 10,
   "id": "c6f0c537-6c5b-40f2-b24c-26fbb8f7a4d5",
   "metadata": {},
   "outputs": [
    {
     "data": {
      "text/plain": [
       "url           검색어\n",
       "cmp/ark-mid/  중      1776\n",
       "              뉴런     1721\n",
       "              ㅈ      1470\n",
       "              주      1416\n",
       "              ㄱ      1155\n",
       "              뉴      1081\n",
       "              중학     1028\n",
       "              ㅇ      1011\n",
       "              과학      984\n",
       "              뉴러      892\n",
       "              ㄴ       845\n",
       "              ㅅ       843\n",
       "              수학      718\n",
       "              여       707\n",
       "              영어      662\n",
       "              뉼       646\n",
       "              수       641\n",
       "              과       622\n",
       "              고       615\n",
       "              중2      604\n",
       "dtype: int64"
      ]
     },
     "execution_count": 10,
     "metadata": {},
     "output_type": "execute_result"
    }
   ],
   "source": [
    "#1위 url 빈도수 20위까지 확인\n",
    "rank1 = allWowd[allWowd[\"url\"] == \"cmp/ark-mid/\"]\n",
    "rank1.value_counts()[:20]"
   ]
  },
  {
   "cell_type": "code",
   "execution_count": 11,
   "id": "8ff62148-0dbf-4e77-824f-3dc50274ccb2",
   "metadata": {},
   "outputs": [
    {
     "data": {
      "text/plain": [
       "url               검색어  \n",
       "cmp/main-relate/  추천검색어    2856\n",
       "                  수능특강     1408\n",
       "                  한국사       863\n",
       "                  수능완성      819\n",
       "                  수학        803\n",
       "                  정승제       716\n",
       "                  왕초보영어     621\n",
       "                  영어        616\n",
       "                  과학        605\n",
       "                  국어        498\n",
       "                  올림포스      455\n",
       "                  모의고사      451\n",
       "                  세계사       420\n",
       "                  생명과학      373\n",
       "                  개념완성      354\n",
       "                  최태성       337\n",
       "                  뉴런        336\n",
       "                  정승익       331\n",
       "                  독서        316\n",
       "                  화학        310\n",
       "dtype: int64"
      ]
     },
     "execution_count": 11,
     "metadata": {},
     "output_type": "execute_result"
    }
   ],
   "source": [
    "#2위 url 빈도수 20위까지 확인\n",
    "rank2 = allWowd[allWowd[\"url\"] == \"cmp/main-relate/\"]\n",
    "rank2.value_counts()[:20]"
   ]
  },
  {
   "cell_type": "code",
   "execution_count": 12,
   "id": "133429e8-8e26-4f0f-917f-f93c32e818de",
   "metadata": {},
   "outputs": [
    {
     "data": {
      "text/plain": [
       "url           검색어\n",
       "cmp/ark-pms/  ㅇ      1163\n",
       "              만점왕    1038\n",
       "              ㅅ       722\n",
       "              만       614\n",
       "              만점      576\n",
       "              ㅁ       566\n",
       "              여       560\n",
       "              ㄱ       551\n",
       "              마       496\n",
       "              만저      469\n",
       "              만점와     438\n",
       "              만점오     412\n",
       "              ㅎ       368\n",
       "              만점ㅇ     360\n",
       "              어       349\n",
       "              맍       333\n",
       "              영어      330\n",
       "              스       325\n",
       "              스토리     314\n",
       "              수학      314\n",
       "dtype: int64"
      ]
     },
     "execution_count": 12,
     "metadata": {},
     "output_type": "execute_result"
    }
   ],
   "source": [
    "#3위 url 빈도수 20위까지 확인\n",
    "rank3 = allWowd[allWowd[\"url\"] == \"cmp/ark-pms/\"]\n",
    "rank3.value_counts()[:20]"
   ]
  },
  {
   "cell_type": "code",
   "execution_count": 13,
   "id": "37408c0e-f11c-47d6-9d3a-9edf5d6ccbee",
   "metadata": {},
   "outputs": [
    {
     "data": {
      "text/plain": [
       "url      검색어     \n",
       "h-ibsi/  정승제         388\n",
       "         수능특강        301\n",
       "         모의고사        281\n",
       "         9월모의고사      195\n",
       "         수능완성        194\n",
       "         한국사         193\n",
       "         영어듣기        189\n",
       "         생명과학        183\n",
       "         중세국어        181\n",
       "         미래엔         181\n",
       "         관동별곡        162\n",
       "         독서          151\n",
       "         올림포스        145\n",
       "         수능특강화학      143\n",
       "         수능특강생명과학    143\n",
       "         모의고사해설      141\n",
       "         수능특강라이트     138\n",
       "         세계사         138\n",
       "         지구과학        135\n",
       "         화학          134\n",
       "dtype: int64"
      ]
     },
     "execution_count": 13,
     "metadata": {},
     "output_type": "execute_result"
    }
   ],
   "source": [
    "#4위 url 빈도수 20위까지 확인\n",
    "rank4 = allWowd[allWowd[\"url\"] == \"h-ibsi/\"]\n",
    "rank4.value_counts()[:20]"
   ]
  },
  {
   "cell_type": "code",
   "execution_count": 14,
   "id": "7b668220-61f0-4982-ab83-fd60cfc89669",
   "metadata": {},
   "outputs": [
    {
     "data": {
      "text/plain": [
       "url         검색어 \n",
       "h-lecture/  수능특강    1048\n",
       "            수능완성     620\n",
       "            한국사      536\n",
       "            정승제      462\n",
       "            모의고사     353\n",
       "            올림포스     343\n",
       "            독서       311\n",
       "            생명과학     308\n",
       "            수학       289\n",
       "            통합과학     272\n",
       "            주혜연      255\n",
       "            세계사      253\n",
       "            개념완성     250\n",
       "            통합사회     249\n",
       "            지구과학     245\n",
       "            화학       241\n",
       "            국어       197\n",
       "            영어       192\n",
       "            최태성      189\n",
       "            미적분      182\n",
       "dtype: int64"
      ]
     },
     "execution_count": 14,
     "metadata": {},
     "output_type": "execute_result"
    }
   ],
   "source": [
    "#5위 url 빈도수 20위까지 확인\n",
    "rank5 = allWowd[allWowd[\"url\"] == \"h-lecture/\"]\n",
    "rank5.value_counts()[:20]"
   ]
  },
  {
   "cell_type": "code",
   "execution_count": 16,
   "id": "c3c216ed-4c49-4c33-8881-d4ffaf42859d",
   "metadata": {},
   "outputs": [],
   "source": [
    "#방송관련 키워드 20위까지 확인 \n",
    "\n",
    "'''\n",
    "'main-play-char-kid/'\n",
    "'main-play-program/'\n",
    "'main-play-vod-kid/'\n",
    "'main-play-vod/'\n",
    "'''\n",
    "vod1 = allWowd[allWowd[\"url\"] == \"main-play-char-kid/\"]\n",
    "vod1 = vod1.reset_index(drop = True)\n",
    "\n",
    "vod2 = allWowd[allWowd[\"url\"] == \"main-play-program/\"]\n",
    "vod2 = vod2.reset_index(drop = True)\n",
    "\n",
    "vod3 = allWowd[allWowd[\"url\"] == \"main-play-vod-kid/\"]\n",
    "vod3 = vod3.reset_index(drop = True)\n",
    "\n",
    "vod4 = allWowd[allWowd[\"url\"] == \"main-play-vod/\"]\n",
    "vod4 = vod4.reset_index(drop = True)\n",
    "\n",
    "allWordData = pd.concat([vod1,vod2,vod3,vod4])['검색어'].reset_index(drop = True)"
   ]
  },
  {
   "cell_type": "code",
   "execution_count": 19,
   "id": "7dfbe589-0e23-4a04-9029-ea1852969d5e",
   "metadata": {},
   "outputs": [
    {
     "data": {
      "text/plain": [
       "위대한 수업     202\n",
       "위대한        154\n",
       "한글용사       116\n",
       "픽시         113\n",
       "위대한수업      101\n",
       "          ... \n",
       "반짝이고 싶다      1\n",
       "계리직          1\n",
       "우리동네         1\n",
       "주니어 경제학      1\n",
       "공감           1\n",
       "Name: 검색어, Length: 386, dtype: int64"
      ]
     },
     "execution_count": 19,
     "metadata": {},
     "output_type": "execute_result"
    }
   ],
   "source": [
    "allWordData.value_counts()"
   ]
  },
  {
   "cell_type": "code",
   "execution_count": 21,
   "id": "10e22cd0-386a-41d9-8e02-7e11f2343cff",
   "metadata": {},
   "outputs": [
    {
     "data": {
      "text/plain": [
       "올림포스의 별            12\n",
       "코로나예방              12\n",
       "호기심딱지              12\n",
       "당신의 문해력            11\n",
       "위대한 수업             11\n",
       "호기심딱지 1            11\n",
       "포포                 11\n",
       "귀재                 11\n",
       "올림포스의 별            11\n",
       "포텐독                11\n",
       " 스페이스정글            11\n",
       "와인                 10\n",
       "올림포스               10\n",
       "시간 을 달리는 세계사       10\n",
       "야호                 10\n",
       "도라도라               10\n",
       "모여라딩동댕             10\n",
       "췌장암                10\n",
       "풍경화                10\n",
       "한글                 10\n",
       "자본주의               10\n",
       "호기심딱지        봉구    10\n",
       "고양이                10\n",
       "허지원                10\n",
       "주디스                 9\n",
       "돈의                  9\n",
       "건축탐구                9\n",
       "넘버스                 9\n",
       "화력발전                9\n",
       "리처드 니스벳             9\n",
       "당신의문해력              9\n",
       "듄듄                  9\n",
       "음악                  9\n",
       "소년 시대               8\n",
       "아이야용사               8\n",
       "먼지                  8\n",
       "보니쇼 하니쇼 게임          8\n",
       "일단해보세요              7\n",
       "미스터 마구              7\n",
       "미스터 마구              7\n",
       "니스벳                 7\n",
       "한글이야호               7\n",
       "난청                  7\n",
       "세모법                 7\n",
       "위대한 강연              7\n",
       "펭톡                  7\n",
       "이것이 야생이다            7\n",
       "공인중개사               7\n",
       "호기심딱지               7\n",
       "건축탐구 집              6\n",
       "Name: 검색어, dtype: int64"
      ]
     },
     "execution_count": 21,
     "metadata": {},
     "output_type": "execute_result"
    }
   ],
   "source": [
    "allWordData.value_counts()[50:100]"
   ]
  },
  {
   "cell_type": "code",
   "execution_count": null,
   "id": "25aabe43-3a87-48da-a9d7-3f451b0e7d9f",
   "metadata": {},
   "outputs": [],
   "source": []
  }
 ],
 "metadata": {
  "kernelspec": {
   "display_name": "Python 3",
   "language": "python",
   "name": "python3"
  },
  "language_info": {
   "codemirror_mode": {
    "name": "ipython",
    "version": 3
   },
   "file_extension": ".py",
   "mimetype": "text/x-python",
   "name": "python",
   "nbconvert_exporter": "python",
   "pygments_lexer": "ipython3",
   "version": "3.8.8"
  }
 },
 "nbformat": 4,
 "nbformat_minor": 5
}
