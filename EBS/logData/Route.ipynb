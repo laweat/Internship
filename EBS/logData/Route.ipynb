{
 "cells": [
  {
   "cell_type": "code",
   "execution_count": 1,
   "id": "194c1b81-b5e0-4e6f-9e7c-ac90f02d3369",
   "metadata": {},
   "outputs": [],
   "source": [
    "import pandas as pd\n",
    "from datetime import datetime\n",
    "import warnings\n",
    "import matplotlib.pyplot as plt\n",
    "import numpy as np\n",
    "from urllib import parse\n",
    "warnings.filterwarnings(\"ignore\")\n",
    "plt.rc('font', family='Malgun Gothic')\n",
    "%matplotlib inline"
   ]
  },
  {
   "cell_type": "code",
   "execution_count": 2,
   "id": "e63c13c4-98a0-4645-8ce7-a986a3690337",
   "metadata": {},
   "outputs": [],
   "source": [
    "route1005 = pd.read_csv(\"1005Log.csv\")\n",
    "route1006 = pd.read_csv(\"1006Log.csv\")\n",
    "route1007 = pd.read_csv(\"1007Log.csv\")\n",
    "route1008 = pd.read_csv(\"1008Log.csv\")\n",
    "route1009 = pd.read_csv(\"1009Log.csv\")\n",
    "route1010 = pd.read_csv(\"1010Log.csv\")\n",
    "route1011 = pd.read_csv(\"1011Log.csv\")"
   ]
  },
  {
   "cell_type": "code",
   "execution_count": 3,
   "id": "db26bc86-e0ef-48d0-aa1a-86288f1bc97b",
   "metadata": {},
   "outputs": [],
   "source": [
    "route1005 = route1005[\"경로\"]\n",
    "route1006 = route1006[\"경로\"]\n",
    "route1007 = route1007[\"경로\"]\n",
    "route1008 = route1008[\"경로\"]\n",
    "route1009 = route1009[\"경로\"]\n",
    "route1010 = route1010[\"경로\"]\n",
    "route1011 = route1011[\"경로\"]"
   ]
  },
  {
   "cell_type": "code",
   "execution_count": null,
   "id": "7584e8ce-6e0c-4fac-9b53-f9b1d5ee6a18",
   "metadata": {},
   "outputs": [],
   "source": [
    "for i in range(len(route1005)):\n",
    "    endPoint = int(route1005.str.find(\"?\")[i])\n",
    "    route1005[i] = route1005[i][:endPoint]"
   ]
  },
  {
   "cell_type": "code",
   "execution_count": null,
   "id": "f851b0f1-e908-420e-a3f5-b7fc0132de2f",
   "metadata": {},
   "outputs": [],
   "source": [
    "for i in range(len(route1006)):\n",
    "    endPoint = int(route1006.str.find(\"?\")[i])\n",
    "    route1006[i] = route1006[i][:endPoint]"
   ]
  },
  {
   "cell_type": "code",
   "execution_count": null,
   "id": "c0202576-aa15-4f3a-a383-a9da2576fc1d",
   "metadata": {},
   "outputs": [],
   "source": [
    "for i in range(len(route1007)):\n",
    "    endPoint = int(route1007.str.find(\"?\")[i])\n",
    "    route1007[i] = route1007[i][:endPoint]"
   ]
  },
  {
   "cell_type": "code",
   "execution_count": null,
   "id": "66de318f-e755-4d1e-acd4-fc02124136a3",
   "metadata": {},
   "outputs": [],
   "source": [
    "for i in range(len(route1008)):\n",
    "    endPoint = int(route1008.str.find(\"?\")[i])\n",
    "    route1008[i] = route1008[i][:endPoint]"
   ]
  },
  {
   "cell_type": "code",
   "execution_count": null,
   "id": "528a9f3f-ccce-4452-b577-de423467ede7",
   "metadata": {},
   "outputs": [],
   "source": [
    "for i in range(len(route1009)):\n",
    "    endPoint = int(route1009.str.find(\"?\")[i])\n",
    "    route1009[i] = route1009[i][:endPoint]"
   ]
  },
  {
   "cell_type": "code",
   "execution_count": null,
   "id": "f9be67a1-7d48-4017-8d06-d687597af990",
   "metadata": {},
   "outputs": [],
   "source": [
    "for i in range(len(route1010)):\n",
    "    endPoint = int(route1010.str.find(\"?\")[i])\n",
    "    route1010[i] = route1010[i][:endPoint]"
   ]
  },
  {
   "cell_type": "code",
   "execution_count": null,
   "id": "31905181-65b5-4e79-ace9-1e23ea58a792",
   "metadata": {},
   "outputs": [],
   "source": [
    "for i in range(len(route1011)):\n",
    "    endPoint = int(route1011.str.find(\"?\")[i])\n",
    "    route1011[i] = route1011[i][:endPoint]"
   ]
  },
  {
   "cell_type": "code",
   "execution_count": null,
   "id": "a2120346-429e-4694-9059-019717e80d31",
   "metadata": {},
   "outputs": [],
   "source": []
  }
 ],
 "metadata": {
  "kernelspec": {
   "display_name": "Python 3",
   "language": "python",
   "name": "python3"
  },
  "language_info": {
   "codemirror_mode": {
    "name": "ipython",
    "version": 3
   },
   "file_extension": ".py",
   "mimetype": "text/x-python",
   "name": "python",
   "nbconvert_exporter": "python",
   "pygments_lexer": "ipython3",
   "version": "3.8.8"
  }
 },
 "nbformat": 4,
 "nbformat_minor": 5
}
