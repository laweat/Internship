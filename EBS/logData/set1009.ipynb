{
 "cells": [
  {
   "cell_type": "code",
   "execution_count": 1,
   "id": "6b1e3295-7423-4fd7-96f9-aab0a945acfa",
   "metadata": {},
   "outputs": [],
   "source": [
    "import pandas as pd\n",
    "from datetime import datetime\n",
    "import warnings\n",
    "import matplotlib.pyplot as plt\n",
    "import numpy as np\n",
    "from urllib import parse\n",
    "warnings.filterwarnings(\"ignore\")\n",
    "plt.rc('font', family='Malgun Gothic')\n",
    "%matplotlib inline"
   ]
  },
  {
   "cell_type": "code",
   "execution_count": 2,
   "id": "3c78dd99-5ce5-4da7-bae8-eb0685d019a3",
   "metadata": {},
   "outputs": [],
   "source": [
    "word1009 = pd.read_csv(\"1009Log.csv\")\n",
    "word1009 = word1009[\"경로\"]"
   ]
  },
  {
   "cell_type": "code",
   "execution_count": null,
   "id": "cd057c6d-0267-4a51-854e-a34baae7dbaf",
   "metadata": {},
   "outputs": [
    {
     "name": "stdout",
     "output_type": "stream",
     "text": [
      "0\n",
      "1000\n",
      "2000\n"
     ]
    }
   ],
   "source": [
    "dfList = []\n",
    "for i in range(len(word1009)):\n",
    "    #검색기록 없으면 nan처리\n",
    "    if word1009.str.find('search=')[i] == -1 and word1009.str.find('search_multi_match=')[i] == -1 :\n",
    "        word1009[i] = np.nan\n",
    "    #검색이 search = , search_multi_match= 두가지 경우가 있음\n",
    "    else:\n",
    "        #url만 자르기\n",
    "        endPoint = int(word1009.str.find(\"?\")[i])\n",
    "        url = word1009[i][:endPoint]\n",
    "        \n",
    "        #검색기록만 자르기\n",
    "        if int(word1009.str.find('search=')[i]) == -1:\n",
    "            start = int(word1009.str.find('search_multi_match=')[i] +19)\n",
    "        else:\n",
    "            start = int(word1009.str.find('search=')[i] + 7)\n",
    "        word1009[i] = word1009[i][start:]\n",
    "    \n",
    "        if int(word1009.str.find(\"&\")[i]) == -1:\n",
    "            end = int(word1009.str.find(\" HTTP/1.1\")[i])\n",
    "        else:\n",
    "            end = int(word1009.str.find(\"&\")[i])\n",
    "        keyword = word1009[i][:end]\n",
    "    \n",
    "        df = pd.DataFrame({\n",
    "            \"url\":url,\n",
    "            \"검색어\":keyword \n",
    "            },index = [i])\n",
    "        \n",
    "        dfList.append(df)\n",
    "    if i % 1000 == 0:\n",
    "        print(i)\n",
    "        \n",
    "fianl1009 = pd.concat(dfList)\n",
    "\n",
    "#csv파일 저장\n",
    "fianl1009.to_csv(\"fianl1009.csv\", index=False, encoding=\"utf-8-sig\")"
   ]
  },
  {
   "cell_type": "code",
   "execution_count": null,
   "id": "6044ef34-5829-4f55-ad63-e4f78935ae4e",
   "metadata": {},
   "outputs": [],
   "source": []
  }
 ],
 "metadata": {
  "kernelspec": {
   "display_name": "Python 3",
   "language": "python",
   "name": "python3"
  },
  "language_info": {
   "codemirror_mode": {
    "name": "ipython",
    "version": 3
   },
   "file_extension": ".py",
   "mimetype": "text/x-python",
   "name": "python",
   "nbconvert_exporter": "python",
   "pygments_lexer": "ipython3",
   "version": "3.8.8"
  }
 },
 "nbformat": 4,
 "nbformat_minor": 5
}
