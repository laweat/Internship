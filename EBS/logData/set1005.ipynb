{
 "cells": [
  {
   "cell_type": "code",
   "execution_count": 104,
   "id": "aa9c9a3e-cab4-43a3-bc22-d34a103d3bb7",
   "metadata": {},
   "outputs": [],
   "source": [
    "import pandas as pd\n",
    "from datetime import datetime\n",
    "import warnings\n",
    "import matplotlib.pyplot as plt\n",
    "import numpy as np\n",
    "from urllib import parse\n",
    "warnings.filterwarnings(\"ignore\")\n",
    "plt.rc('font', family='Malgun Gothic')\n",
    "%matplotlib inline"
   ]
  },
  {
   "cell_type": "code",
   "execution_count": 105,
   "id": "6e425254-646c-4384-8b9b-1f6d233fe157",
   "metadata": {},
   "outputs": [],
   "source": [
    "word1005 = pd.read_csv(\"1005Log.csv\")\n",
    "# word1006 = pd.read_csv(\"1006Log.csv\")\n",
    "# word1007 = pd.read_csv(\"1007Log.csv\")\n",
    "# word1008 = pd.read_csv(\"1008Log.csv\")\n",
    "# word1009 = pd.read_csv(\"1009Log.csv\")\n",
    "# word1010 = pd.read_csv(\"1010Log.csv\")\n",
    "# word1011 = pd.read_csv(\"1011Log.csv\")"
   ]
  },
  {
   "cell_type": "code",
   "execution_count": 106,
   "id": "70950053-0a80-48d4-8156-7f8c7157423f",
   "metadata": {},
   "outputs": [],
   "source": [
    "word1005 = word1005[\"경로\"]\n",
    "# word1006 = word1006[\"경로\"]\n",
    "# word1007 = word1007[\"경로\"]\n",
    "# word1008 = word1008[\"경로\"]\n",
    "# word1009 = word1009[\"경로\"]\n",
    "# word1010 = word1010[\"경로\"]\n",
    "# word1011 = word1011[\"경로\"]"
   ]
  },
  {
   "cell_type": "code",
   "execution_count": null,
   "id": "d975a3a7-c668-4d39-9b08-56bb9f255eef",
   "metadata": {},
   "outputs": [
    {
     "name": "stdout",
     "output_type": "stream",
     "text": [
      "0\n",
      "1000\n",
      "2000\n"
     ]
    }
   ],
   "source": [
    "#10월 5일\n",
    "dfList = []\n",
    "for i in range(len(word1005)):\n",
    "    #검색기록 없으면 nan처리\n",
    "    if word1005.str.find('search=')[i] == -1 and word1005.str.find('search_multi_match=')[i] == -1 :\n",
    "        word1005[i] = np.nan\n",
    "    #검색이 search = , search_multi_match= 두가지 경우가 있음\n",
    "    else:\n",
    "        #url만 자르기\n",
    "        endPoint = int(word1005.str.find(\"?\")[i])\n",
    "        url = word1005[i][:endPoint]\n",
    "        \n",
    "        #검색기록만 자르기\n",
    "        if int(word1005.str.find('search=')[i]) == -1:\n",
    "            start = int(word1005.str.find('search_multi_match=')[i] +19)\n",
    "        else:\n",
    "            start = int(word1005.str.find('search=')[i] + 7)\n",
    "        word1005[i] = word1005[i][start:]\n",
    "    \n",
    "        if int(word1005.str.find(\"&\")[i]) == -1:\n",
    "            end = int(word1005.str.find(\" HTTP/1.1\")[i])\n",
    "        else:\n",
    "            end = int(word1005.str.find(\"&\")[i])\n",
    "        keyword = word1005[i][:end]\n",
    "    \n",
    "        df = pd.DataFrame({\n",
    "            \"url\":url,\n",
    "            \"검색어\":keyword \n",
    "            },index = [i])\n",
    "        \n",
    "        dfList.append(df)\n",
    "    if i % 1000 == 0:\n",
    "        print(i)\n",
    "        \n",
    "fianl1005 = pd.concat(dfList)\n",
    "\n",
    "#csv파일 저장\n",
    "fianl1005.to_csv(\"fianl1005.csv\", index=False, encoding=\"utf-8-sig\")"
   ]
  },
  {
   "cell_type": "code",
   "execution_count": null,
   "id": "7d05d19a-f1b7-4ba2-a334-240caffc5117",
   "metadata": {},
   "outputs": [],
   "source": []
  }
 ],
 "metadata": {
  "kernelspec": {
   "display_name": "Python 3",
   "language": "python",
   "name": "python3"
  },
  "language_info": {
   "codemirror_mode": {
    "name": "ipython",
    "version": 3
   },
   "file_extension": ".py",
   "mimetype": "text/x-python",
   "name": "python",
   "nbconvert_exporter": "python",
   "pygments_lexer": "ipython3",
   "version": "3.8.8"
  }
 },
 "nbformat": 4,
 "nbformat_minor": 5
}
