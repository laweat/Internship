{
 "cells": [
  {
   "cell_type": "code",
   "execution_count": null,
   "id": "f9ac9aaa-9493-4aa4-af59-30051c832e57",
   "metadata": {},
   "outputs": [],
   "source": [
    "import pandas as pd\n",
    "from datetime import datetime\n",
    "import warnings\n",
    "import matplotlib.pyplot as plt\n",
    "import numpy as np\n",
    "from urllib import parse\n",
    "warnings.filterwarnings(\"ignore\")\n",
    "plt.rc('font', family='Malgun Gothic')\n",
    "%matplotlib inline"
   ]
  },
  {
   "cell_type": "code",
   "execution_count": null,
   "id": "dae9621d-8df3-4706-8f97-2db3e3e9d50a",
   "metadata": {},
   "outputs": [],
   "source": [
    "word1008 = pd.read_csv(\"1008Log.csv\")\n",
    "word1008 = word1008[\"경로\"]"
   ]
  },
  {
   "cell_type": "code",
   "execution_count": null,
   "id": "5b25affc-01a2-4c7b-ba09-731a70ff91f8",
   "metadata": {},
   "outputs": [],
   "source": [
    "dfList = []\n",
    "for i in range(len(word1008)):\n",
    "    #검색기록 없으면 nan처리\n",
    "    if word1008.str.find('search=')[i] == -1 and word1008.str.find('search_multi_match=')[i] == -1 :\n",
    "        word1008[i] = np.nan\n",
    "    #검색이 search = , search_multi_match= 두가지 경우가 있음\n",
    "    else:\n",
    "        #url만 자르기\n",
    "        endPoint = int(word1008.str.find(\"?\")[i])\n",
    "        url = word1008[i][:endPoint]\n",
    "        \n",
    "        #검색기록만 자르기\n",
    "        if int(word1008.str.find('search=')[i]) == -1:\n",
    "            start = int(word1008.str.find('search_multi_match=')[i] +19)\n",
    "        else:\n",
    "            start = int(word1008.str.find('search=')[i] + 7)\n",
    "        word1008[i] = word1008[i][start:]\n",
    "    \n",
    "        if int(word1008.str.find(\"&\")[i]) == -1:\n",
    "            end = int(word1008.str.find(\" HTTP/1.1\")[i])\n",
    "        else:\n",
    "            end = int(word1008.str.find(\"&\")[i])\n",
    "        keyword = word1008[i][:end]\n",
    "    \n",
    "        df = pd.DataFrame({\n",
    "            \"url\":url,\n",
    "            \"검색어\":keyword \n",
    "            },index = [i])\n",
    "        \n",
    "        dfList.append(df)\n",
    "    if i % 1000 == 0:\n",
    "        print(i)\n",
    "        \n",
    "fianl1008 = pd.concat(dfList)\n",
    "\n",
    "#csv파일 저장\n",
    "fianl1008.to_csv(\"fianl1008.csv\", index=False, encoding=\"utf-8-sig\")"
   ]
  }
 ],
 "metadata": {
  "kernelspec": {
   "display_name": "Python 3",
   "language": "python",
   "name": "python3"
  },
  "language_info": {
   "codemirror_mode": {
    "name": "ipython",
    "version": 3
   },
   "file_extension": ".py",
   "mimetype": "text/x-python",
   "name": "python",
   "nbconvert_exporter": "python",
   "pygments_lexer": "ipython3",
   "version": "3.8.8"
  }
 },
 "nbformat": 4,
 "nbformat_minor": 5
}
