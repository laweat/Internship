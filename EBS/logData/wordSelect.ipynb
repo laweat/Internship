{
 "cells": [
  {
   "cell_type": "code",
   "execution_count": 1,
   "id": "8b2bfccb-b9b5-4946-ae15-004e2ed24473",
   "metadata": {},
   "outputs": [],
   "source": [
    "import pandas as pd\n",
    "from datetime import datetime\n",
    "import warnings\n",
    "import matplotlib.pyplot as plt\n",
    "import numpy as np\n",
    "from urllib import parse\n",
    "warnings.filterwarnings(\"ignore\")\n",
    "plt.rc('font', family='Malgun Gothic')\n",
    "%matplotlib inline"
   ]
  },
  {
   "cell_type": "code",
   "execution_count": 2,
   "id": "59b2a012-d45e-4e26-bcf2-8c7ef23238ee",
   "metadata": {},
   "outputs": [],
   "source": [
    "word1005 = pd.read_csv(\"1005Log.csv\")"
   ]
  },
  {
   "cell_type": "code",
   "execution_count": 3,
   "id": "cacfe4ef-f4ca-4b98-a896-d2a5779e254d",
   "metadata": {},
   "outputs": [],
   "source": [
    "word1005 = word1005[[\"IP 주소(요청자)\",\"경로\"]]"
   ]
  },
  {
   "cell_type": "code",
   "execution_count": 4,
   "id": "aaaf4b3b-eba6-4a69-aad2-648db9c9dd6d",
   "metadata": {},
   "outputs": [],
   "source": [
    "for i in range(100):\n",
    "    if word1005['경로'].str.find('search_multi_match=')[i] == -1:\n",
    "        word1005[\"경로\"][i] = np.nan\n",
    "    else:\n",
    "        start =  int(word1005['경로'].str.find('search_multi_match=')[i] +19)\n",
    "        word1005['경로'][i] = word1005['경로'][i][start:]\n",
    "        if int(word1005['경로'].str.find(\"&\")[i]) == -1:\n",
    "            end = int(word1005['경로'].str.find(\" HTTP/1.1\")[i])\n",
    "        else:\n",
    "            end = int(word1005['경로'].str.find(\"&\")[i])\n",
    "        word1005['경로'][i] = word1005['경로'][i][:end]"
   ]
  },
  {
   "cell_type": "code",
   "execution_count": 41,
   "id": "9c8651cd-b057-4cbf-83af-232080353f1d",
   "metadata": {},
   "outputs": [],
   "source": [
    "tmp = word1005[:100]"
   ]
  },
  {
   "cell_type": "code",
   "execution_count": 43,
   "id": "c060ce8b-1f9a-4229-8ff1-d4826030e13c",
   "metadata": {},
   "outputs": [],
   "source": [
    "word1005 = word1005.dropna()"
   ]
  },
  {
   "cell_type": "code",
   "execution_count": 44,
   "id": "a5cc0017-226a-4c91-b8df-aa16e45f6ac2",
   "metadata": {},
   "outputs": [],
   "source": [
    "word1005 = word1005.dropna()\n",
    "word1005 = word1005.reset_index(drop=True)\n",
    "words1005 = [tmp[\"경로\"][0]] #단어만 따로 분리\n",
    "\n",
    "for i in range(1,len(word1005)):\n",
    "    if words1005[-1] == word1005[\"경로\"][i]:\n",
    "        continue\n",
    "    else:\n",
    "        words.append(word1005[\"경로\"][i])"
   ]
  },
  {
   "cell_type": "code",
   "execution_count": 45,
   "id": "a1f19885-1719-4cf2-a971-1ef97fdf9f59",
   "metadata": {},
   "outputs": [
    {
     "data": {
      "text/plain": [
       "'Ebs초등영문법'"
      ]
     },
     "execution_count": 45,
     "metadata": {},
     "output_type": "execute_result"
    }
   ],
   "source": [
    "words[0]"
   ]
  },
  {
   "cell_type": "code",
   "execution_count": 46,
   "id": "45c71747-e022-45e2-afbf-b94dc8f8f562",
   "metadata": {},
   "outputs": [],
   "source": [
    "for i in range(1,len(tmp)):\n",
    "    if words[-1] == tmp[\"경로\"][i]:\n",
    "        continue\n",
    "    else:\n",
    "        words.append(tmp[\"경로\"][i])"
   ]
  },
  {
   "cell_type": "code",
   "execution_count": 47,
   "id": "f9da1135-755c-405d-b0cc-e074fb23bf9e",
   "metadata": {},
   "outputs": [
    {
     "data": {
      "text/plain": [
       "['Ebs초등영문법',\n",
       " '독서교과서',\n",
       " '3주완성',\n",
       " '수능특강',\n",
       " '한국사',\n",
       " '수의비밀',\n",
       " '개념완성',\n",
       " '영어 수능특강',\n",
       " 'EBS 2022학년도 뉴수능 스타트 수학영역 수학Ⅱ',\n",
       " '영어수능특강',\n",
       " '간격',\n",
       " '영어수능특강',\n",
       " '2021시험대비3주완성한국지리',\n",
       " '2021시험대비3주완성',\n",
       " '이대봉전',\n",
       " 'Ebs초등영문법']"
      ]
     },
     "execution_count": 47,
     "metadata": {},
     "output_type": "execute_result"
    }
   ],
   "source": [
    "words"
   ]
  }
 ],
 "metadata": {
  "kernelspec": {
   "display_name": "Python 3",
   "language": "python",
   "name": "python3"
  },
  "language_info": {
   "codemirror_mode": {
    "name": "ipython",
    "version": 3
   },
   "file_extension": ".py",
   "mimetype": "text/x-python",
   "name": "python",
   "nbconvert_exporter": "python",
   "pygments_lexer": "ipython3",
   "version": "3.8.8"
  }
 },
 "nbformat": 4,
 "nbformat_minor": 5
}
