{
  "nbformat": 4,
  "nbformat_minor": 0,
  "metadata": {
    "colab": {
      "name": "error500.ipynb",
      "provenance": []
    },
    "kernelspec": {
      "name": "python3",
      "display_name": "Python 3"
    },
    "language_info": {
      "name": "python"
    }
  },
  "cells": [
    {
      "cell_type": "code",
      "metadata": {
        "id": "X8kSEIRS3g-J"
      },
      "source": [
        "import pandas as pd\n",
        "from datetime import datetime\n",
        "import warnings\n",
        "import matplotlib.pyplot as plt\n",
        "import numpy as np\n",
        "from urllib import parse\n"
      ],
      "execution_count": 1,
      "outputs": []
    },
    {
      "cell_type": "code",
      "metadata": {
        "id": "KzPqkP1J4siL"
      },
      "source": [
        "word1005 = pd.read_csv(\"1005Log.csv\")\n",
        "word1006 = pd.read_csv(\"1006Log.csv\")\n",
        "word1007 = pd.read_csv(\"1007Log.csv\")\n",
        "word1008 = pd.read_csv(\"1008Log.csv\")\n",
        "word1009 = pd.read_csv(\"1009Log.csv\")\n",
        "word1010 = pd.read_csv(\"1010Log.csv\")\n",
        "word1011 = pd.read_csv(\"1011Log.csv\")"
      ],
      "execution_count": 2,
      "outputs": []
    },
    {
      "cell_type": "code",
      "metadata": {
        "colab": {
          "base_uri": "https://localhost:8080/",
          "height": 419
        },
        "id": "vPVzFRHh48Nj",
        "outputId": "8eb99941-b2bc-4755-a7e2-57d3fdd96d2b"
      },
      "source": [
        "allCnt = pd.concat([word1005,word1006,word1007,word1008,word1009,word1010,word1011])\n",
        "allCnt"
      ],
      "execution_count": 15,
      "outputs": [
        {
          "output_type": "execute_result",
          "data": {
            "text/html": [
              "<div>\n",
              "<style scoped>\n",
              "    .dataframe tbody tr th:only-of-type {\n",
              "        vertical-align: middle;\n",
              "    }\n",
              "\n",
              "    .dataframe tbody tr th {\n",
              "        vertical-align: top;\n",
              "    }\n",
              "\n",
              "    .dataframe thead th {\n",
              "        text-align: right;\n",
              "    }\n",
              "</style>\n",
              "<table border=\"1\" class=\"dataframe\">\n",
              "  <thead>\n",
              "    <tr style=\"text-align: right;\">\n",
              "      <th></th>\n",
              "      <th>서버주소</th>\n",
              "      <th>요청시간</th>\n",
              "      <th>경로</th>\n",
              "      <th>HTTP 상태 코드</th>\n",
              "      <th>전송바이트(header제외)</th>\n",
              "    </tr>\n",
              "  </thead>\n",
              "  <tbody>\n",
              "    <tr>\n",
              "      <th>0</th>\n",
              "      <td>172.23.204.13</td>\n",
              "      <td>[04/Oct/2021:00:00:01</td>\n",
              "      <td>cmp/main-pop-word/?limit=10&amp;offset=0&amp;FMY_SITE_...</td>\n",
              "      <td>200</td>\n",
              "      <td>64</td>\n",
              "    </tr>\n",
              "    <tr>\n",
              "      <th>1</th>\n",
              "      <td>172.23.204.13</td>\n",
              "      <td>[04/Oct/2021:00:00:01</td>\n",
              "      <td>cmp/main-pop-word/?limit=10&amp;offset=0&amp;FMY_SITE_...</td>\n",
              "      <td>200</td>\n",
              "      <td>64</td>\n",
              "    </tr>\n",
              "    <tr>\n",
              "      <th>2</th>\n",
              "      <td>172.23.204.13</td>\n",
              "      <td>[04/Oct/2021:00:00:01</td>\n",
              "      <td>cmp/main-pop-word/?limit=10&amp;offset=0&amp;FMY_SITE_...</td>\n",
              "      <td>200</td>\n",
              "      <td>1713</td>\n",
              "    </tr>\n",
              "    <tr>\n",
              "      <th>3</th>\n",
              "      <td>172.23.204.13</td>\n",
              "      <td>[04/Oct/2021:00:00:01</td>\n",
              "      <td>cmp/main-pop-word/?limit=10&amp;offset=0&amp;FMY_SITE_...</td>\n",
              "      <td>200</td>\n",
              "      <td>1563</td>\n",
              "    </tr>\n",
              "    <tr>\n",
              "      <th>4</th>\n",
              "      <td>172.23.204.13</td>\n",
              "      <td>[04/Oct/2021:00:00:01</td>\n",
              "      <td>cmp/main-pop-word/?limit=10&amp;offset=0&amp;FMY_SITE_...</td>\n",
              "      <td>200</td>\n",
              "      <td>1581</td>\n",
              "    </tr>\n",
              "    <tr>\n",
              "      <th>...</th>\n",
              "      <td>...</td>\n",
              "      <td>...</td>\n",
              "      <td>...</td>\n",
              "      <td>...</td>\n",
              "      <td>...</td>\n",
              "    </tr>\n",
              "    <tr>\n",
              "      <th>289093</th>\n",
              "      <td>172.23.204.24</td>\n",
              "      <td>[10/Oct/2021:23:59:58</td>\n",
              "      <td>h-community/?limit=2&amp;offset=0&amp;search_multi_mat...</td>\n",
              "      <td>200</td>\n",
              "      <td>3037</td>\n",
              "    </tr>\n",
              "    <tr>\n",
              "      <th>289094</th>\n",
              "      <td>172.23.204.24</td>\n",
              "      <td>[10/Oct/2021:23:59:58</td>\n",
              "      <td>mat-mov/?limit=10&amp;offset=0&amp;search=6회 펜토미노가 심쿵해...</td>\n",
              "      <td>200</td>\n",
              "      <td>12963</td>\n",
              "    </tr>\n",
              "    <tr>\n",
              "      <th>289095</th>\n",
              "      <td>172.23.204.24</td>\n",
              "      <td>[10/Oct/2021:23:59:59</td>\n",
              "      <td>cmp/ark-mid/?limit=10&amp;offset=0&amp;search=마이그래 HTT...</td>\n",
              "      <td>200</td>\n",
              "      <td>64</td>\n",
              "    </tr>\n",
              "    <tr>\n",
              "      <th>289096</th>\n",
              "      <td>172.23.204.24</td>\n",
              "      <td>[10/Oct/2021:23:59:59</td>\n",
              "      <td>mat-mov/?limit=10&amp;offset=0&amp;search=6회 돌도끼 수학 [1...</td>\n",
              "      <td>200</td>\n",
              "      <td>16574</td>\n",
              "    </tr>\n",
              "    <tr>\n",
              "      <th>289097</th>\n",
              "      <td>172.23.204.24</td>\n",
              "      <td>[11/Oct/2021:00:00:00</td>\n",
              "      <td>cmp/ark-mid/?limit=10&amp;offset=0&amp;search=마이그램 HTT...</td>\n",
              "      <td>200</td>\n",
              "      <td>64</td>\n",
              "    </tr>\n",
              "  </tbody>\n",
              "</table>\n",
              "<p>2353977 rows × 5 columns</p>\n",
              "</div>"
            ],
            "text/plain": [
              "                 서버주소                   요청시간  ... HTTP 상태 코드  전송바이트(header제외)\n",
              "0       172.23.204.13  [04/Oct/2021:00:00:01  ...        200               64\n",
              "1       172.23.204.13  [04/Oct/2021:00:00:01  ...        200               64\n",
              "2       172.23.204.13  [04/Oct/2021:00:00:01  ...        200             1713\n",
              "3       172.23.204.13  [04/Oct/2021:00:00:01  ...        200             1563\n",
              "4       172.23.204.13  [04/Oct/2021:00:00:01  ...        200             1581\n",
              "...               ...                    ...  ...        ...              ...\n",
              "289093  172.23.204.24  [10/Oct/2021:23:59:58  ...        200             3037\n",
              "289094  172.23.204.24  [10/Oct/2021:23:59:58  ...        200            12963\n",
              "289095  172.23.204.24  [10/Oct/2021:23:59:59  ...        200               64\n",
              "289096  172.23.204.24  [10/Oct/2021:23:59:59  ...        200            16574\n",
              "289097  172.23.204.24  [11/Oct/2021:00:00:00  ...        200               64\n",
              "\n",
              "[2353977 rows x 5 columns]"
            ]
          },
          "metadata": {},
          "execution_count": 15
        }
      ]
    },
    {
      "cell_type": "code",
      "metadata": {
        "id": "UejGeG1s4-np"
      },
      "source": [
        "#에러난 데이터만 모으기\n",
        "\n",
        "error1005 = word1005[word1005[\"HTTP 상태 코드\"] == 500]\n",
        "error1006 = word1006[word1006[\"HTTP 상태 코드\"] == 500]\n",
        "error1007 = word1007[word1007[\"HTTP 상태 코드\"] == 500]\n",
        "error1008 = word1008[word1008[\"HTTP 상태 코드\"] == 500]\n",
        "error1009 = word1009[word1009[\"HTTP 상태 코드\"] == 500]\n",
        "error1010 = word1010[word1010[\"HTTP 상태 코드\"] == 500]\n",
        "error1011 = word1011[word1011[\"HTTP 상태 코드\"] == 500]"
      ],
      "execution_count": 4,
      "outputs": []
    },
    {
      "cell_type": "code",
      "metadata": {
        "id": "zkLenDrL5AgZ"
      },
      "source": [
        "error = pd.concat([error1005,error1006,error1007,error1008,error1009,error1010,error1011])"
      ],
      "execution_count": 5,
      "outputs": []
    },
    {
      "cell_type": "code",
      "metadata": {
        "colab": {
          "base_uri": "https://localhost:8080/",
          "height": 419
        },
        "id": "yeDFUOF75C7B",
        "outputId": "0c36c478-937d-4c3a-e75c-f9ad87be1026"
      },
      "source": [
        "error = error.reset_index(drop=True)\n",
        "error"
      ],
      "execution_count": 6,
      "outputs": [
        {
          "output_type": "execute_result",
          "data": {
            "text/html": [
              "<div>\n",
              "<style scoped>\n",
              "    .dataframe tbody tr th:only-of-type {\n",
              "        vertical-align: middle;\n",
              "    }\n",
              "\n",
              "    .dataframe tbody tr th {\n",
              "        vertical-align: top;\n",
              "    }\n",
              "\n",
              "    .dataframe thead th {\n",
              "        text-align: right;\n",
              "    }\n",
              "</style>\n",
              "<table border=\"1\" class=\"dataframe\">\n",
              "  <thead>\n",
              "    <tr style=\"text-align: right;\">\n",
              "      <th></th>\n",
              "      <th>서버주소</th>\n",
              "      <th>요청시간</th>\n",
              "      <th>경로</th>\n",
              "      <th>HTTP 상태 코드</th>\n",
              "      <th>전송바이트(header제외)</th>\n",
              "    </tr>\n",
              "  </thead>\n",
              "  <tbody>\n",
              "    <tr>\n",
              "      <th>0</th>\n",
              "      <td>172.23.204.23</td>\n",
              "      <td>[04/Oct/2021:00:10:38</td>\n",
              "      <td>j-course/?limit=10&amp;offset=0&amp;search=The 쉬운 영어독해...</td>\n",
              "      <td>500</td>\n",
              "      <td>19582</td>\n",
              "    </tr>\n",
              "    <tr>\n",
              "      <th>1</th>\n",
              "      <td>172.23.204.23</td>\n",
              "      <td>[04/Oct/2021:00:10:38</td>\n",
              "      <td>j-course-premium/?limit=10&amp;offset=0&amp;search=The...</td>\n",
              "      <td>500</td>\n",
              "      <td>19620</td>\n",
              "    </tr>\n",
              "    <tr>\n",
              "      <th>2</th>\n",
              "      <td>172.23.204.23</td>\n",
              "      <td>[04/Oct/2021:00:10:38</td>\n",
              "      <td>j-lecture/?limit=10&amp;offset=0&amp;search=The 쉬운 영어독...</td>\n",
              "      <td>500</td>\n",
              "      <td>19638</td>\n",
              "    </tr>\n",
              "    <tr>\n",
              "      <th>3</th>\n",
              "      <td>172.23.204.23</td>\n",
              "      <td>[04/Oct/2021:00:10:38</td>\n",
              "      <td>j-lecture-premium/?limit=10&amp;offset=0&amp;search=Th...</td>\n",
              "      <td>500</td>\n",
              "      <td>19626</td>\n",
              "    </tr>\n",
              "    <tr>\n",
              "      <th>4</th>\n",
              "      <td>172.23.204.24</td>\n",
              "      <td>[04/Oct/2021:00:15:51</td>\n",
              "      <td>j-course/?limit=10&amp;offset=0&amp;search=The 쉬운 영어독해...</td>\n",
              "      <td>500</td>\n",
              "      <td>19583</td>\n",
              "    </tr>\n",
              "    <tr>\n",
              "      <th>...</th>\n",
              "      <td>...</td>\n",
              "      <td>...</td>\n",
              "      <td>...</td>\n",
              "      <td>...</td>\n",
              "      <td>...</td>\n",
              "    </tr>\n",
              "    <tr>\n",
              "      <th>487</th>\n",
              "      <td>172.23.204.13</td>\n",
              "      <td>[10/Oct/2021:22:23:24</td>\n",
              "      <td>j-course/?limit=10&amp;offset=0&amp;search=쉬운영문빕 HTTP/1.1</td>\n",
              "      <td>500</td>\n",
              "      <td>19532</td>\n",
              "    </tr>\n",
              "    <tr>\n",
              "      <th>488</th>\n",
              "      <td>172.23.204.23</td>\n",
              "      <td>[10/Oct/2021:23:51:48</td>\n",
              "      <td>j-course/?limit=10&amp;offset=0&amp;search=The 쉬운 영문법 ...</td>\n",
              "      <td>500</td>\n",
              "      <td>19553</td>\n",
              "    </tr>\n",
              "    <tr>\n",
              "      <th>489</th>\n",
              "      <td>172.23.204.23</td>\n",
              "      <td>[10/Oct/2021:23:51:48</td>\n",
              "      <td>j-course-premium/?limit=10&amp;offset=0&amp;search=The...</td>\n",
              "      <td>500</td>\n",
              "      <td>19591</td>\n",
              "    </tr>\n",
              "    <tr>\n",
              "      <th>490</th>\n",
              "      <td>172.23.204.23</td>\n",
              "      <td>[10/Oct/2021:23:51:48</td>\n",
              "      <td>j-lecture/?limit=10&amp;offset=0&amp;search=The 쉬운 영문법...</td>\n",
              "      <td>500</td>\n",
              "      <td>19557</td>\n",
              "    </tr>\n",
              "    <tr>\n",
              "      <th>491</th>\n",
              "      <td>172.23.204.23</td>\n",
              "      <td>[10/Oct/2021:23:51:48</td>\n",
              "      <td>j-lecture-premium/?limit=10&amp;offset=0&amp;search=Th...</td>\n",
              "      <td>500</td>\n",
              "      <td>19597</td>\n",
              "    </tr>\n",
              "  </tbody>\n",
              "</table>\n",
              "<p>492 rows × 5 columns</p>\n",
              "</div>"
            ],
            "text/plain": [
              "              서버주소                   요청시간  ... HTTP 상태 코드  전송바이트(header제외)\n",
              "0    172.23.204.23  [04/Oct/2021:00:10:38  ...        500            19582\n",
              "1    172.23.204.23  [04/Oct/2021:00:10:38  ...        500            19620\n",
              "2    172.23.204.23  [04/Oct/2021:00:10:38  ...        500            19638\n",
              "3    172.23.204.23  [04/Oct/2021:00:10:38  ...        500            19626\n",
              "4    172.23.204.24  [04/Oct/2021:00:15:51  ...        500            19583\n",
              "..             ...                    ...  ...        ...              ...\n",
              "487  172.23.204.13  [10/Oct/2021:22:23:24  ...        500            19532\n",
              "488  172.23.204.23  [10/Oct/2021:23:51:48  ...        500            19553\n",
              "489  172.23.204.23  [10/Oct/2021:23:51:48  ...        500            19591\n",
              "490  172.23.204.23  [10/Oct/2021:23:51:48  ...        500            19557\n",
              "491  172.23.204.23  [10/Oct/2021:23:51:48  ...        500            19597\n",
              "\n",
              "[492 rows x 5 columns]"
            ]
          },
          "metadata": {},
          "execution_count": 6
        }
      ]
    },
    {
      "cell_type": "code",
      "metadata": {
        "colab": {
          "base_uri": "https://localhost:8080/"
        },
        "id": "aQ8ThJxi5EOJ",
        "outputId": "126afe4a-3606-4dd1-f686-d6a1706d4ed7"
      },
      "source": [
        "dfList = []\n",
        "for i in range(len(error)):\n",
        "    #서버주소 \n",
        "    addr = error[\"서버주소\"][i]\n",
        "    #검색기록 없으면 nan처리\n",
        "    if error[\"경로\"].str.find('search=')[i] == -1 and error[\"경로\"].str.find('search_multi_match=')[i] == -1 :\n",
        "        error[\"경로\"][i] = np.nan\n",
        "    #검색이 search = , search_multi_match= 두가지 경우가 있음\n",
        "    else:\n",
        "        #url만 자르기\n",
        "        endPoint = int(error[\"경로\"].str.find(\"?\")[i])\n",
        "        url = error[\"경로\"][i][:endPoint]\n",
        "        \n",
        "        #검색기록만 자르기\n",
        "        if int(error[\"경로\"].str.find('search=')[i]) == -1:\n",
        "            start = int(error[\"경로\"].str.find('search_multi_match=')[i] +19)\n",
        "        else:\n",
        "            start = int(error[\"경로\"].str.find('search=')[i] + 7)\n",
        "        error[\"경로\"][i] = error[\"경로\"][i][start:]\n",
        "    \n",
        "        if int(error[\"경로\"].str.find(\"&\")[i]) == -1:\n",
        "            end = int(error[\"경로\"].str.find(\" HTTP/1.1\")[i])\n",
        "        else:\n",
        "            end = int(error[\"경로\"].str.find(\"&\")[i])\n",
        "        keyword = error[\"경로\"][i][:end]\n",
        "    \n",
        "        df = pd.DataFrame({\n",
        "            \"서버주소\":addr,\n",
        "            \"url\":url,\n",
        "            \"검색어\":keyword \n",
        "            },index = [i])\n",
        "        \n",
        "        dfList.append(df)\n",
        "        \n",
        "errorFinal = pd.concat(dfList)"
      ],
      "execution_count": 7,
      "outputs": [
        {
          "output_type": "stream",
          "name": "stderr",
          "text": [
            "/usr/local/lib/python3.7/dist-packages/ipykernel_launcher.py:19: SettingWithCopyWarning: \n",
            "A value is trying to be set on a copy of a slice from a DataFrame\n",
            "\n",
            "See the caveats in the documentation: https://pandas.pydata.org/pandas-docs/stable/user_guide/indexing.html#returning-a-view-versus-a-copy\n"
          ]
        }
      ]
    },
    {
      "cell_type": "code",
      "metadata": {
        "colab": {
          "base_uri": "https://localhost:8080/",
          "height": 419
        },
        "id": "ep9avLIq5G7B",
        "outputId": "be715342-ae20-4e25-e668-620959f17929"
      },
      "source": [
        "errorFinal"
      ],
      "execution_count": 8,
      "outputs": [
        {
          "output_type": "execute_result",
          "data": {
            "text/html": [
              "<div>\n",
              "<style scoped>\n",
              "    .dataframe tbody tr th:only-of-type {\n",
              "        vertical-align: middle;\n",
              "    }\n",
              "\n",
              "    .dataframe tbody tr th {\n",
              "        vertical-align: top;\n",
              "    }\n",
              "\n",
              "    .dataframe thead th {\n",
              "        text-align: right;\n",
              "    }\n",
              "</style>\n",
              "<table border=\"1\" class=\"dataframe\">\n",
              "  <thead>\n",
              "    <tr style=\"text-align: right;\">\n",
              "      <th></th>\n",
              "      <th>서버주소</th>\n",
              "      <th>url</th>\n",
              "      <th>검색어</th>\n",
              "    </tr>\n",
              "  </thead>\n",
              "  <tbody>\n",
              "    <tr>\n",
              "      <th>0</th>\n",
              "      <td>172.23.204.23</td>\n",
              "      <td>j-course/</td>\n",
              "      <td>The 쉬운 영어독해 Ⅰ</td>\n",
              "    </tr>\n",
              "    <tr>\n",
              "      <th>1</th>\n",
              "      <td>172.23.204.23</td>\n",
              "      <td>j-course-premium/</td>\n",
              "      <td>The 쉬운 영어독해 Ⅰ</td>\n",
              "    </tr>\n",
              "    <tr>\n",
              "      <th>2</th>\n",
              "      <td>172.23.204.23</td>\n",
              "      <td>j-lecture/</td>\n",
              "      <td>The 쉬운 영어독해 Ⅰ</td>\n",
              "    </tr>\n",
              "    <tr>\n",
              "      <th>3</th>\n",
              "      <td>172.23.204.23</td>\n",
              "      <td>j-lecture-premium/</td>\n",
              "      <td>The 쉬운 영어독해 Ⅰ</td>\n",
              "    </tr>\n",
              "    <tr>\n",
              "      <th>4</th>\n",
              "      <td>172.23.204.24</td>\n",
              "      <td>j-course/</td>\n",
              "      <td>The 쉬운 영어독해 Ⅰ</td>\n",
              "    </tr>\n",
              "    <tr>\n",
              "      <th>...</th>\n",
              "      <td>...</td>\n",
              "      <td>...</td>\n",
              "      <td>...</td>\n",
              "    </tr>\n",
              "    <tr>\n",
              "      <th>487</th>\n",
              "      <td>172.23.204.13</td>\n",
              "      <td>j-course/</td>\n",
              "      <td>쉬운영문빕</td>\n",
              "    </tr>\n",
              "    <tr>\n",
              "      <th>488</th>\n",
              "      <td>172.23.204.23</td>\n",
              "      <td>j-course/</td>\n",
              "      <td>The 쉬운 영문법 Ⅰ</td>\n",
              "    </tr>\n",
              "    <tr>\n",
              "      <th>489</th>\n",
              "      <td>172.23.204.23</td>\n",
              "      <td>j-course-premium/</td>\n",
              "      <td>The 쉬운 영문법 Ⅰ</td>\n",
              "    </tr>\n",
              "    <tr>\n",
              "      <th>490</th>\n",
              "      <td>172.23.204.23</td>\n",
              "      <td>j-lecture/</td>\n",
              "      <td>The 쉬운 영문법 Ⅰ</td>\n",
              "    </tr>\n",
              "    <tr>\n",
              "      <th>491</th>\n",
              "      <td>172.23.204.23</td>\n",
              "      <td>j-lecture-premium/</td>\n",
              "      <td>The 쉬운 영문법 Ⅰ</td>\n",
              "    </tr>\n",
              "  </tbody>\n",
              "</table>\n",
              "<p>492 rows × 3 columns</p>\n",
              "</div>"
            ],
            "text/plain": [
              "              서버주소                 url            검색어\n",
              "0    172.23.204.23           j-course/  The 쉬운 영어독해 Ⅰ\n",
              "1    172.23.204.23   j-course-premium/  The 쉬운 영어독해 Ⅰ\n",
              "2    172.23.204.23          j-lecture/  The 쉬운 영어독해 Ⅰ\n",
              "3    172.23.204.23  j-lecture-premium/  The 쉬운 영어독해 Ⅰ\n",
              "4    172.23.204.24           j-course/  The 쉬운 영어독해 Ⅰ\n",
              "..             ...                 ...            ...\n",
              "487  172.23.204.13           j-course/          쉬운영문빕\n",
              "488  172.23.204.23           j-course/   The 쉬운 영문법 Ⅰ\n",
              "489  172.23.204.23   j-course-premium/   The 쉬운 영문법 Ⅰ\n",
              "490  172.23.204.23          j-lecture/   The 쉬운 영문법 Ⅰ\n",
              "491  172.23.204.23  j-lecture-premium/   The 쉬운 영문법 Ⅰ\n",
              "\n",
              "[492 rows x 3 columns]"
            ]
          },
          "metadata": {},
          "execution_count": 8
        }
      ]
    },
    {
      "cell_type": "code",
      "metadata": {
        "colab": {
          "base_uri": "https://localhost:8080/"
        },
        "id": "bJrcG5ml5QrZ",
        "outputId": "048a315b-1c72-4d5d-8459-13bd9c2cfb5f"
      },
      "source": [
        "# 비율확인\n",
        "len(errorFinal) / len(allCnt)"
      ],
      "execution_count": 9,
      "outputs": [
        {
          "output_type": "execute_result",
          "data": {
            "text/plain": [
              "0.00020900798945784092"
            ]
          },
          "metadata": {},
          "execution_count": 9
        }
      ]
    },
    {
      "cell_type": "code",
      "metadata": {
        "colab": {
          "base_uri": "https://localhost:8080/"
        },
        "id": "-lYxfaV95SsR",
        "outputId": "7c100840-007b-4e85-c73e-0cdb020edf78"
      },
      "source": [
        "# 500에러가 어떤 경우에 가장 많이 나는지 확인 (행기준)\n",
        "errorFinal.value_counts()[:50]"
      ],
      "execution_count": 10,
      "outputs": [
        {
          "output_type": "execute_result",
          "data": {
            "text/plain": [
              "서버주소           url                 검색어                          \n",
              "172.23.204.24  j-course/           The 쉬운 영문법 Ⅰ                     7\n",
              "172.23.204.13  j-lecture-premium/  The 쉬운 영문법 Ⅰ                     6\n",
              "172.23.204.24  j-course/           The 쉬운 영문법                       6\n",
              "               j-course-premium/   The 쉬운 영문법 Ⅰ                     6\n",
              "172.23.204.13  j-lecture/          The 쉬운 영문법 Ⅰ                     6\n",
              "172.23.204.24  j-lecture/          The 쉬운 영문법 Ⅰ                     5\n",
              "172.23.204.13  j-course-premium/   The 쉬운 영문법 Ⅰ                     5\n",
              "172.23.204.24  j-lecture-premium/  The 쉬운 영문법 Ⅰ                     5\n",
              "               j-course-premium/   The 쉬운 영문법                       5\n",
              "172.23.204.13  j-course/           The 쉬운 영문법 Ⅰ                     5\n",
              "172.23.204.24  j-lecture/          The 쉬운 영문법                       5\n",
              "               j-lecture-premium/  The 쉬운 영문법                       4\n",
              "172.23.204.23  j-lecture/          The 쉬운 영어듣기                      4\n",
              "               j-lecture-premium/  The 쉬운 영어듣기                      4\n",
              "               j-course/           The 쉬운 영어듣기                      4\n",
              "               j-course-premium/   The 쉬운 영어듣기                      4\n",
              "172.23.204.13  j-course/           The 쉬운 영문법                       4\n",
              "172.23.204.24  j-course/           더 쉬운 영문법                         3\n",
              "172.23.204.13  j-course/           더 쉬운 영문법                         3\n",
              "                                   The 쉬운 영어독해 Ⅰ                    3\n",
              "172.23.204.23  j-lecture/          The 쉬운 영문법 Ⅰ                     3\n",
              "172.23.204.13  p-lecture/          EBSMath 6학년 1학기 직육면체의 겉넓이와 부피    3\n",
              "               j-course-premium/   더쉬운영문법                           3\n",
              "172.23.204.24  j-course-premium/   더 쉬운 영문법                         3\n",
              "172.23.204.23  j-lecture-premium/  The 쉬운 영문법 Ⅰ                     3\n",
              "172.23.204.13  j-lecture/          [공통] 원더풀 원리수학_삼각형의 닮음과 삼각비       3\n",
              "                                   더쉬운영문법                           3\n",
              "                                   The 쉬운 영문법                       3\n",
              "               j-lecture-premium/  더쉬운영문법                           3\n",
              "               j-course/           중학수학 뜀틀 개념편 중1(상)(2021년)         3\n",
              "               j-lecture-premium/  The 쉬운 영문법                       3\n",
              "172.23.204.24  j-course/           the 쉬운 영문법                       3\n",
              "172.23.204.13  j-lecture-premium/  The 쉬운 영어독해 Ⅰ                    3\n",
              "                                   [공통] 원더풀 원리수학_삼각형의 닮음과 삼각비       3\n",
              "172.23.204.24  j-course-premium/   The 쉬운 영어듣기                      2\n",
              "172.23.204.13  j-course-premium/   [공통] 원더풀 원리수학_삼각형의 닮음과 삼각비       2\n",
              "172.23.204.24  j-course-premium/   The 쉬운 영문법 Ⅱ                     2\n",
              "172.23.204.13  j-course-premium/   The 쉬운 영문법 Ⅱ                     2\n",
              "                                   들판이 적막하다                         2\n",
              "                                   중학수학 뜀틀 개념편 중1(상)(2021년)         2\n",
              "172.23.204.24  j-course-premium/   더쉬운영문법                           2\n",
              "172.23.204.23  j-lecture/          중학수학 뜀틀 개념편 중1(상)(2021년)         2\n",
              "172.23.204.24  j-course/           The 쉬운 영어듣기                      2\n",
              "172.23.204.13  j-course-premium/   The 쉬운 영어독해 Ⅰ                    2\n",
              "172.23.204.23  j-lecture-premium/  중학수학 뜀틀 개념편 중1(상)(2021년)         2\n",
              "172.23.204.24  j-course/           The 쉬운 영문법 Ⅱ                     2\n",
              "172.23.204.13  j-course/           The 쉬운 영문법 Ⅱ                     2\n",
              "                                   들판이 적막하다                         2\n",
              "172.23.204.23  j-course/           중학수학 뜀틀 개념편 중1(상)(2021년)         2\n",
              "172.23.204.13  j-lecture/          중학수학 뜀틀 개념편 중1(상)(2021년)         2\n",
              "dtype: int64"
            ]
          },
          "metadata": {},
          "execution_count": 10
        }
      ]
    },
    {
      "cell_type": "code",
      "metadata": {
        "colab": {
          "base_uri": "https://localhost:8080/"
        },
        "id": "Wk337Q7l5VJB",
        "outputId": "92329c54-d756-4aea-98ac-86be87d091be"
      },
      "source": [
        "# 500에러가 개별변수로 가장 많이 나는지 확인 (열기준)\n",
        "\n",
        "#서버주소 별 확인\n",
        "errorFinal['서버주소'].value_counts()"
      ],
      "execution_count": 12,
      "outputs": [
        {
          "output_type": "execute_result",
          "data": {
            "text/plain": [
              "172.23.204.13    222\n",
              "172.23.204.24    166\n",
              "172.23.204.23     91\n",
              "172.23.204.14     13\n",
              "Name: 서버주소, dtype: int64"
            ]
          },
          "metadata": {},
          "execution_count": 12
        }
      ]
    },
    {
      "cell_type": "code",
      "metadata": {
        "colab": {
          "base_uri": "https://localhost:8080/"
        },
        "id": "DI-78N7V9XV9",
        "outputId": "b15a6957-06f4-41b4-f6fe-3f6d596ab3dc"
      },
      "source": [
        "#전체데이터 기준 서버주소 172.23.204.13 에러비율 확인 \n",
        "len(errorFinal[errorFinal['서버주소']== \"172.23.204.13\"]) / len(allCnt[allCnt[\"서버주소\"] == \"172.23.204.13\"])"
      ],
      "execution_count": 45,
      "outputs": [
        {
          "output_type": "execute_result",
          "data": {
            "text/plain": [
              "0.00023594129950516094"
            ]
          },
          "metadata": {},
          "execution_count": 45
        }
      ]
    },
    {
      "cell_type": "code",
      "metadata": {
        "colab": {
          "base_uri": "https://localhost:8080/"
        },
        "id": "DcpogpHI5Zzh",
        "outputId": "62af6c83-9de3-411d-9300-e5f01acb310f"
      },
      "source": [
        "# url 별 확인\n",
        "errorFinal['url'].value_counts()"
      ],
      "execution_count": 13,
      "outputs": [
        {
          "output_type": "execute_result",
          "data": {
            "text/plain": [
              "j-course/             111\n",
              "j-course-premium/      96\n",
              "j-lecture/             96\n",
              "j-lecture-premium/     95\n",
              "p-lecture/             48\n",
              "p-course/              46\n",
              "Name: url, dtype: int64"
            ]
          },
          "metadata": {},
          "execution_count": 13
        }
      ]
    },
    {
      "cell_type": "code",
      "metadata": {
        "colab": {
          "base_uri": "https://localhost:8080/"
        },
        "id": "-ENhyl-S9BQ3",
        "outputId": "d9440e2d-a432-4aa5-8385-06a38522d6a8"
      },
      "source": [
        "#전체데이터 기준 url j-course/ 에러비율 확인 \n",
        "len(errorFinal[errorFinal['url']== \"j-course/\"]) / len(allCnt[allCnt[\"경로\"] .str.contains(\"j-course/\")])"
      ],
      "execution_count": 42,
      "outputs": [
        {
          "output_type": "execute_result",
          "data": {
            "text/plain": [
              "0.0050388124744654775"
            ]
          },
          "metadata": {},
          "execution_count": 42
        }
      ]
    },
    {
      "cell_type": "code",
      "metadata": {
        "colab": {
          "base_uri": "https://localhost:8080/"
        },
        "id": "uG-iwzBN5eD5",
        "outputId": "8b654d8b-fe38-4483-d374-02d4c9b38d9b"
      },
      "source": [
        "errorFinal['검색어'].value_counts()"
      ],
      "execution_count": 14,
      "outputs": [
        {
          "output_type": "execute_result",
          "data": {
            "text/plain": [
              "The 쉬운 영문법 Ⅰ                  55\n",
              "The 쉬운 영문법                    36\n",
              "The 쉬운 영어듣기                   25\n",
              "중학수학 뜀틀 개념편 중1(상)(2021년)      21\n",
              "더쉬운영문법                        19\n",
              "                              ..\n",
              "정승익 더 쉬운 영문                    1\n",
              "더쉬운영어듣기                        1\n",
              "EBSMath 4학년 2학기 분수의 덧셈과 뺄셈     1\n",
              "중학 과학 끝장 내기                    1\n",
              "개코수학                           1\n",
              "Name: 검색어, Length: 96, dtype: int64"
            ]
          },
          "metadata": {},
          "execution_count": 14
        }
      ]
    },
    {
      "cell_type": "code",
      "metadata": {
        "colab": {
          "base_uri": "https://localhost:8080/"
        },
        "id": "ZQY3ydLR7apO",
        "outputId": "24b6644e-b5a1-4d69-9772-a31c9cac9493"
      },
      "source": [
        "#전체 데이터중 The 쉬운 영문법 Ⅰ 에러 비율 확인\n",
        "len(errorFinal[errorFinal['검색어']== \"The 쉬운 영문법 Ⅰ\"]) / len(allCnt[allCnt[\"경로\"] .str.contains(\"The 쉬운 영문법 Ⅰ\")])\n"
      ],
      "execution_count": 39,
      "outputs": [
        {
          "output_type": "execute_result",
          "data": {
            "text/plain": [
              "0.25821596244131456"
            ]
          },
          "metadata": {},
          "execution_count": 39
        }
      ]
    },
    {
      "cell_type": "code",
      "metadata": {
        "colab": {
          "base_uri": "https://localhost:8080/"
        },
        "id": "I0OiTxMQ7KkK",
        "outputId": "5eedb648-11fe-4972-82c0-9eae679bedf4"
      },
      "source": [
        "#전체 데이터중 \"The 쉬운\" 이 포함된 검색어 에러 비율 확인\n",
        "len(errorFinal[errorFinal[\"검색어\"] .str.contains(\"The 쉬운\")]) / len(allCnt[allCnt[\"경로\"] .str.contains(\"The 쉬운\")])"
      ],
      "execution_count": 40,
      "outputs": [
        {
          "output_type": "execute_result",
          "data": {
            "text/plain": [
              "0.20823798627002288"
            ]
          },
          "metadata": {},
          "execution_count": 40
        }
      ]
    },
    {
      "cell_type": "code",
      "metadata": {
        "id": "cLwjAoNS8X-R"
      },
      "source": [
        ""
      ],
      "execution_count": null,
      "outputs": []
    }
  ]
}