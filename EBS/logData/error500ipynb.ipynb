{
  "nbformat": 4,
  "nbformat_minor": 0,
  "metadata": {
    "colab": {
      "name": "error500ipynb",
      "provenance": [],
      "collapsed_sections": []
    },
    "kernelspec": {
      "name": "python3",
      "display_name": "Python 3"
    },
    "language_info": {
      "name": "python"
    }
  },
  "cells": [
    {
      "cell_type": "code",
      "metadata": {
        "id": "vz0ASPsXlru5"
      },
      "source": [
        "import pandas as pd\n",
        "from datetime import datetime\n",
        "import warnings\n",
        "import matplotlib.pyplot as plt\n",
        "import numpy as np\n",
        "from urllib import parse"
      ],
      "execution_count": 6,
      "outputs": []
    },
    {
      "cell_type": "code",
      "metadata": {
        "id": "-5Pi4MtlmNb7"
      },
      "source": [
        "word1005 = pd.read_csv(\"1005Log.csv\")\n",
        "word1006 = pd.read_csv(\"1006Log.csv\")\n",
        "word1007 = pd.read_csv(\"1007Log.csv\")\n",
        "word1008 = pd.read_csv(\"1008Log.csv\")\n",
        "word1009 = pd.read_csv(\"1009Log.csv\")\n",
        "word1010 = pd.read_csv(\"1010Log.csv\")\n",
        "word1011 = pd.read_csv(\"1011Log.csv\")"
      ],
      "execution_count": 28,
      "outputs": []
    },
    {
      "cell_type": "code",
      "metadata": {
        "id": "lefGWouWLcY_"
      },
      "source": [
        "allCnt = pd.concat([word1005,word1006,word1007,word1008,word1009,word1010,word1011])"
      ],
      "execution_count": 77,
      "outputs": []
    },
    {
      "cell_type": "code",
      "metadata": {
        "id": "mw8YbTbK_KJX"
      },
      "source": [
        "#에러난 데이터만 모으기\n",
        "error1005 = word1005[word1005[\"HTTP 상태 코드\"] == 500]\n",
        "error1006 = word1006[word1006[\"HTTP 상태 코드\"] == 500]\n",
        "error1007 = word1007[word1007[\"HTTP 상태 코드\"] == 500]\n",
        "error1008 = word1008[word1008[\"HTTP 상태 코드\"] == 500]\n",
        "error1009 = word1009[word1009[\"HTTP 상태 코드\"] == 500]\n",
        "error1010 = word1010[word1010[\"HTTP 상태 코드\"] == 500]\n",
        "error1011 = word1011[word1011[\"HTTP 상태 코드\"] == 500]"
      ],
      "execution_count": 44,
      "outputs": []
    },
    {
      "cell_type": "code",
      "metadata": {
        "id": "-n8A51Pp_LpX"
      },
      "source": [
        "error = pd.concat([error1005,error1006,error1007,error1008,error1009,error1010,error1011])\n"
      ],
      "execution_count": 78,
      "outputs": []
    },
    {
      "cell_type": "code",
      "metadata": {
        "colab": {
          "base_uri": "https://localhost:8080/",
          "height": 417
        },
        "id": "hNIoPHxsC0tC",
        "outputId": "711d18c5-9a42-4a02-dc5f-0199e5f50d7e"
      },
      "source": [
        "error = error.reset_index(drop=True)\n",
        "error"
      ],
      "execution_count": 79,
      "outputs": [
        {
          "output_type": "execute_result",
          "data": {
            "text/html": [
              "<div>\n",
              "<style scoped>\n",
              "    .dataframe tbody tr th:only-of-type {\n",
              "        vertical-align: middle;\n",
              "    }\n",
              "\n",
              "    .dataframe tbody tr th {\n",
              "        vertical-align: top;\n",
              "    }\n",
              "\n",
              "    .dataframe thead th {\n",
              "        text-align: right;\n",
              "    }\n",
              "</style>\n",
              "<table border=\"1\" class=\"dataframe\">\n",
              "  <thead>\n",
              "    <tr style=\"text-align: right;\">\n",
              "      <th></th>\n",
              "      <th>서버주소</th>\n",
              "      <th>요청시간</th>\n",
              "      <th>경로</th>\n",
              "      <th>HTTP 상태 코드</th>\n",
              "      <th>전송바이트(header제외)</th>\n",
              "    </tr>\n",
              "  </thead>\n",
              "  <tbody>\n",
              "    <tr>\n",
              "      <th>0</th>\n",
              "      <td>172.23.204.23</td>\n",
              "      <td>[04/Oct/2021:00:10:38</td>\n",
              "      <td>j-course/?limit=10&amp;offset=0&amp;search=The 쉬운 영어독해...</td>\n",
              "      <td>500</td>\n",
              "      <td>19582</td>\n",
              "    </tr>\n",
              "    <tr>\n",
              "      <th>1</th>\n",
              "      <td>172.23.204.23</td>\n",
              "      <td>[04/Oct/2021:00:10:38</td>\n",
              "      <td>j-course-premium/?limit=10&amp;offset=0&amp;search=The...</td>\n",
              "      <td>500</td>\n",
              "      <td>19620</td>\n",
              "    </tr>\n",
              "    <tr>\n",
              "      <th>2</th>\n",
              "      <td>172.23.204.23</td>\n",
              "      <td>[04/Oct/2021:00:10:38</td>\n",
              "      <td>j-lecture/?limit=10&amp;offset=0&amp;search=The 쉬운 영어독...</td>\n",
              "      <td>500</td>\n",
              "      <td>19638</td>\n",
              "    </tr>\n",
              "    <tr>\n",
              "      <th>3</th>\n",
              "      <td>172.23.204.23</td>\n",
              "      <td>[04/Oct/2021:00:10:38</td>\n",
              "      <td>j-lecture-premium/?limit=10&amp;offset=0&amp;search=Th...</td>\n",
              "      <td>500</td>\n",
              "      <td>19626</td>\n",
              "    </tr>\n",
              "    <tr>\n",
              "      <th>4</th>\n",
              "      <td>172.23.204.24</td>\n",
              "      <td>[04/Oct/2021:00:15:51</td>\n",
              "      <td>j-course/?limit=10&amp;offset=0&amp;search=The 쉬운 영어독해...</td>\n",
              "      <td>500</td>\n",
              "      <td>19583</td>\n",
              "    </tr>\n",
              "    <tr>\n",
              "      <th>...</th>\n",
              "      <td>...</td>\n",
              "      <td>...</td>\n",
              "      <td>...</td>\n",
              "      <td>...</td>\n",
              "      <td>...</td>\n",
              "    </tr>\n",
              "    <tr>\n",
              "      <th>487</th>\n",
              "      <td>172.23.204.13</td>\n",
              "      <td>[10/Oct/2021:22:23:24</td>\n",
              "      <td>j-course/?limit=10&amp;offset=0&amp;search=쉬운영문빕 HTTP/1.1</td>\n",
              "      <td>500</td>\n",
              "      <td>19532</td>\n",
              "    </tr>\n",
              "    <tr>\n",
              "      <th>488</th>\n",
              "      <td>172.23.204.23</td>\n",
              "      <td>[10/Oct/2021:23:51:48</td>\n",
              "      <td>j-course/?limit=10&amp;offset=0&amp;search=The 쉬운 영문법 ...</td>\n",
              "      <td>500</td>\n",
              "      <td>19553</td>\n",
              "    </tr>\n",
              "    <tr>\n",
              "      <th>489</th>\n",
              "      <td>172.23.204.23</td>\n",
              "      <td>[10/Oct/2021:23:51:48</td>\n",
              "      <td>j-course-premium/?limit=10&amp;offset=0&amp;search=The...</td>\n",
              "      <td>500</td>\n",
              "      <td>19591</td>\n",
              "    </tr>\n",
              "    <tr>\n",
              "      <th>490</th>\n",
              "      <td>172.23.204.23</td>\n",
              "      <td>[10/Oct/2021:23:51:48</td>\n",
              "      <td>j-lecture/?limit=10&amp;offset=0&amp;search=The 쉬운 영문법...</td>\n",
              "      <td>500</td>\n",
              "      <td>19557</td>\n",
              "    </tr>\n",
              "    <tr>\n",
              "      <th>491</th>\n",
              "      <td>172.23.204.23</td>\n",
              "      <td>[10/Oct/2021:23:51:48</td>\n",
              "      <td>j-lecture-premium/?limit=10&amp;offset=0&amp;search=Th...</td>\n",
              "      <td>500</td>\n",
              "      <td>19597</td>\n",
              "    </tr>\n",
              "  </tbody>\n",
              "</table>\n",
              "<p>492 rows × 5 columns</p>\n",
              "</div>"
            ],
            "text/plain": [
              "              서버주소                   요청시간  ... HTTP 상태 코드  전송바이트(header제외)\n",
              "0    172.23.204.23  [04/Oct/2021:00:10:38  ...        500            19582\n",
              "1    172.23.204.23  [04/Oct/2021:00:10:38  ...        500            19620\n",
              "2    172.23.204.23  [04/Oct/2021:00:10:38  ...        500            19638\n",
              "3    172.23.204.23  [04/Oct/2021:00:10:38  ...        500            19626\n",
              "4    172.23.204.24  [04/Oct/2021:00:15:51  ...        500            19583\n",
              "..             ...                    ...  ...        ...              ...\n",
              "487  172.23.204.13  [10/Oct/2021:22:23:24  ...        500            19532\n",
              "488  172.23.204.23  [10/Oct/2021:23:51:48  ...        500            19553\n",
              "489  172.23.204.23  [10/Oct/2021:23:51:48  ...        500            19591\n",
              "490  172.23.204.23  [10/Oct/2021:23:51:48  ...        500            19557\n",
              "491  172.23.204.23  [10/Oct/2021:23:51:48  ...        500            19597\n",
              "\n",
              "[492 rows x 5 columns]"
            ]
          },
          "metadata": {},
          "execution_count": 79
        }
      ]
    },
    {
      "cell_type": "code",
      "metadata": {
        "colab": {
          "base_uri": "https://localhost:8080/"
        },
        "id": "GYzfFtf4HIZI",
        "outputId": "f2401605-288c-4bfb-e0be-ecd3e0dd2399"
      },
      "source": [
        "dfList = []\n",
        "for i in range(len(error)):\n",
        "    #서버주소 \n",
        "    addr = error[\"서버주소\"][i]\n",
        "    #검색기록 없으면 nan처리\n",
        "    if error[\"경로\"].str.find('search=')[i] == -1 and error[\"경로\"].str.find('search_multi_match=')[i] == -1 :\n",
        "        error[\"경로\"][i] = np.nan\n",
        "    #검색이 search = , search_multi_match= 두가지 경우가 있음\n",
        "    else:\n",
        "        #url만 자르기\n",
        "        endPoint = int(error[\"경로\"].str.find(\"?\")[i])\n",
        "        url = error[\"경로\"][i][:endPoint]\n",
        "        \n",
        "        #검색기록만 자르기\n",
        "        if int(error[\"경로\"].str.find('search=')[i]) == -1:\n",
        "            start = int(error[\"경로\"].str.find('search_multi_match=')[i] +19)\n",
        "        else:\n",
        "            start = int(error[\"경로\"].str.find('search=')[i] + 7)\n",
        "        error[\"경로\"][i] = error[\"경로\"][i][start:]\n",
        "    \n",
        "        if int(error[\"경로\"].str.find(\"&\")[i]) == -1:\n",
        "            end = int(error[\"경로\"].str.find(\" HTTP/1.1\")[i])\n",
        "        else:\n",
        "            end = int(error[\"경로\"].str.find(\"&\")[i])\n",
        "        keyword = error[\"경로\"][i][:end]\n",
        "    \n",
        "        df = pd.DataFrame({\n",
        "            \"서버주소\":addr,\n",
        "            \"url\":url,\n",
        "            \"검색어\":keyword \n",
        "            },index = [i])\n",
        "        \n",
        "        dfList.append(df)\n",
        "        \n",
        "errorFinal = pd.concat(dfList)"
      ],
      "execution_count": 80,
      "outputs": [
        {
          "output_type": "stream",
          "name": "stderr",
          "text": [
            "/usr/local/lib/python3.7/dist-packages/ipykernel_launcher.py:19: SettingWithCopyWarning: \n",
            "A value is trying to be set on a copy of a slice from a DataFrame\n",
            "\n",
            "See the caveats in the documentation: https://pandas.pydata.org/pandas-docs/stable/user_guide/indexing.html#returning-a-view-versus-a-copy\n"
          ]
        }
      ]
    },
    {
      "cell_type": "code",
      "metadata": {
        "colab": {
          "base_uri": "https://localhost:8080/",
          "height": 417
        },
        "id": "aSnrN_07HiEo",
        "outputId": "c0c21c57-1286-473c-e7fe-dade8be6b134"
      },
      "source": [
        "errorFinal"
      ],
      "execution_count": 81,
      "outputs": [
        {
          "output_type": "execute_result",
          "data": {
            "text/html": [
              "<div>\n",
              "<style scoped>\n",
              "    .dataframe tbody tr th:only-of-type {\n",
              "        vertical-align: middle;\n",
              "    }\n",
              "\n",
              "    .dataframe tbody tr th {\n",
              "        vertical-align: top;\n",
              "    }\n",
              "\n",
              "    .dataframe thead th {\n",
              "        text-align: right;\n",
              "    }\n",
              "</style>\n",
              "<table border=\"1\" class=\"dataframe\">\n",
              "  <thead>\n",
              "    <tr style=\"text-align: right;\">\n",
              "      <th></th>\n",
              "      <th>서버주소</th>\n",
              "      <th>url</th>\n",
              "      <th>검색어</th>\n",
              "    </tr>\n",
              "  </thead>\n",
              "  <tbody>\n",
              "    <tr>\n",
              "      <th>0</th>\n",
              "      <td>172.23.204.23</td>\n",
              "      <td>j-course/</td>\n",
              "      <td>The 쉬운 영어독해 Ⅰ</td>\n",
              "    </tr>\n",
              "    <tr>\n",
              "      <th>1</th>\n",
              "      <td>172.23.204.23</td>\n",
              "      <td>j-course-premium/</td>\n",
              "      <td>The 쉬운 영어독해 Ⅰ</td>\n",
              "    </tr>\n",
              "    <tr>\n",
              "      <th>2</th>\n",
              "      <td>172.23.204.23</td>\n",
              "      <td>j-lecture/</td>\n",
              "      <td>The 쉬운 영어독해 Ⅰ</td>\n",
              "    </tr>\n",
              "    <tr>\n",
              "      <th>3</th>\n",
              "      <td>172.23.204.23</td>\n",
              "      <td>j-lecture-premium/</td>\n",
              "      <td>The 쉬운 영어독해 Ⅰ</td>\n",
              "    </tr>\n",
              "    <tr>\n",
              "      <th>4</th>\n",
              "      <td>172.23.204.24</td>\n",
              "      <td>j-course/</td>\n",
              "      <td>The 쉬운 영어독해 Ⅰ</td>\n",
              "    </tr>\n",
              "    <tr>\n",
              "      <th>...</th>\n",
              "      <td>...</td>\n",
              "      <td>...</td>\n",
              "      <td>...</td>\n",
              "    </tr>\n",
              "    <tr>\n",
              "      <th>487</th>\n",
              "      <td>172.23.204.13</td>\n",
              "      <td>j-course/</td>\n",
              "      <td>쉬운영문빕</td>\n",
              "    </tr>\n",
              "    <tr>\n",
              "      <th>488</th>\n",
              "      <td>172.23.204.23</td>\n",
              "      <td>j-course/</td>\n",
              "      <td>The 쉬운 영문법 Ⅰ</td>\n",
              "    </tr>\n",
              "    <tr>\n",
              "      <th>489</th>\n",
              "      <td>172.23.204.23</td>\n",
              "      <td>j-course-premium/</td>\n",
              "      <td>The 쉬운 영문법 Ⅰ</td>\n",
              "    </tr>\n",
              "    <tr>\n",
              "      <th>490</th>\n",
              "      <td>172.23.204.23</td>\n",
              "      <td>j-lecture/</td>\n",
              "      <td>The 쉬운 영문법 Ⅰ</td>\n",
              "    </tr>\n",
              "    <tr>\n",
              "      <th>491</th>\n",
              "      <td>172.23.204.23</td>\n",
              "      <td>j-lecture-premium/</td>\n",
              "      <td>The 쉬운 영문법 Ⅰ</td>\n",
              "    </tr>\n",
              "  </tbody>\n",
              "</table>\n",
              "<p>492 rows × 3 columns</p>\n",
              "</div>"
            ],
            "text/plain": [
              "              서버주소                 url            검색어\n",
              "0    172.23.204.23           j-course/  The 쉬운 영어독해 Ⅰ\n",
              "1    172.23.204.23   j-course-premium/  The 쉬운 영어독해 Ⅰ\n",
              "2    172.23.204.23          j-lecture/  The 쉬운 영어독해 Ⅰ\n",
              "3    172.23.204.23  j-lecture-premium/  The 쉬운 영어독해 Ⅰ\n",
              "4    172.23.204.24           j-course/  The 쉬운 영어독해 Ⅰ\n",
              "..             ...                 ...            ...\n",
              "487  172.23.204.13           j-course/          쉬운영문빕\n",
              "488  172.23.204.23           j-course/   The 쉬운 영문법 Ⅰ\n",
              "489  172.23.204.23   j-course-premium/   The 쉬운 영문법 Ⅰ\n",
              "490  172.23.204.23          j-lecture/   The 쉬운 영문법 Ⅰ\n",
              "491  172.23.204.23  j-lecture-premium/   The 쉬운 영문법 Ⅰ\n",
              "\n",
              "[492 rows x 3 columns]"
            ]
          },
          "metadata": {},
          "execution_count": 81
        }
      ]
    },
    {
      "cell_type": "code",
      "metadata": {
        "colab": {
          "base_uri": "https://localhost:8080/"
        },
        "id": "UZUuWm3iLwuD",
        "outputId": "1936a805-cd10-4935-c8c4-4cf80a59f14f"
      },
      "source": [
        "# 비율확인\n",
        "len(errorFinal) / len(allCnt)"
      ],
      "execution_count": 87,
      "outputs": [
        {
          "output_type": "execute_result",
          "data": {
            "text/plain": [
              "0.00020900798945784092"
            ]
          },
          "metadata": {},
          "execution_count": 87
        }
      ]
    },
    {
      "cell_type": "code",
      "metadata": {
        "colab": {
          "base_uri": "https://localhost:8080/"
        },
        "id": "7Z3BVgcJImX4",
        "outputId": "7577e662-1e7a-44ad-bdb7-a2ab26a18264"
      },
      "source": [
        "# 500에러가 어떤 경우에 가장 많이 나는지 확인 (행기준)\n",
        "errorFinal.value_counts()[:50]"
      ],
      "execution_count": 72,
      "outputs": [
        {
          "output_type": "execute_result",
          "data": {
            "text/plain": [
              "서버주소           url                 검색어                          \n",
              "172.23.204.24  j-course/           The 쉬운 영문법 Ⅰ                     7\n",
              "172.23.204.13  j-lecture-premium/  The 쉬운 영문법 Ⅰ                     6\n",
              "172.23.204.24  j-course/           The 쉬운 영문법                       6\n",
              "               j-course-premium/   The 쉬운 영문법 Ⅰ                     6\n",
              "172.23.204.13  j-lecture/          The 쉬운 영문법 Ⅰ                     6\n",
              "172.23.204.24  j-lecture/          The 쉬운 영문법 Ⅰ                     5\n",
              "172.23.204.13  j-course-premium/   The 쉬운 영문법 Ⅰ                     5\n",
              "172.23.204.24  j-lecture-premium/  The 쉬운 영문법 Ⅰ                     5\n",
              "               j-course-premium/   The 쉬운 영문법                       5\n",
              "172.23.204.13  j-course/           The 쉬운 영문법 Ⅰ                     5\n",
              "172.23.204.24  j-lecture/          The 쉬운 영문법                       5\n",
              "               j-lecture-premium/  The 쉬운 영문법                       4\n",
              "172.23.204.23  j-lecture/          The 쉬운 영어듣기                      4\n",
              "               j-lecture-premium/  The 쉬운 영어듣기                      4\n",
              "               j-course/           The 쉬운 영어듣기                      4\n",
              "               j-course-premium/   The 쉬운 영어듣기                      4\n",
              "172.23.204.13  j-course/           The 쉬운 영문법                       4\n",
              "172.23.204.24  j-course/           더 쉬운 영문법                         3\n",
              "172.23.204.13  j-course/           더 쉬운 영문법                         3\n",
              "                                   The 쉬운 영어독해 Ⅰ                    3\n",
              "172.23.204.23  j-lecture/          The 쉬운 영문법 Ⅰ                     3\n",
              "172.23.204.13  p-lecture/          EBSMath 6학년 1학기 직육면체의 겉넓이와 부피    3\n",
              "               j-course-premium/   더쉬운영문법                           3\n",
              "172.23.204.24  j-course-premium/   더 쉬운 영문법                         3\n",
              "172.23.204.23  j-lecture-premium/  The 쉬운 영문법 Ⅰ                     3\n",
              "172.23.204.13  j-lecture/          [공통] 원더풀 원리수학_삼각형의 닮음과 삼각비       3\n",
              "                                   더쉬운영문법                           3\n",
              "                                   The 쉬운 영문법                       3\n",
              "               j-lecture-premium/  더쉬운영문법                           3\n",
              "               j-course/           중학수학 뜀틀 개념편 중1(상)(2021년)         3\n",
              "               j-lecture-premium/  The 쉬운 영문법                       3\n",
              "172.23.204.24  j-course/           the 쉬운 영문법                       3\n",
              "172.23.204.13  j-lecture-premium/  The 쉬운 영어독해 Ⅰ                    3\n",
              "                                   [공통] 원더풀 원리수학_삼각형의 닮음과 삼각비       3\n",
              "172.23.204.24  j-course-premium/   The 쉬운 영어듣기                      2\n",
              "172.23.204.13  j-course-premium/   [공통] 원더풀 원리수학_삼각형의 닮음과 삼각비       2\n",
              "172.23.204.24  j-course-premium/   The 쉬운 영문법 Ⅱ                     2\n",
              "172.23.204.13  j-course-premium/   The 쉬운 영문법 Ⅱ                     2\n",
              "                                   들판이 적막하다                         2\n",
              "                                   중학수학 뜀틀 개념편 중1(상)(2021년)         2\n",
              "172.23.204.24  j-course-premium/   더쉬운영문법                           2\n",
              "172.23.204.23  j-lecture/          중학수학 뜀틀 개념편 중1(상)(2021년)         2\n",
              "172.23.204.24  j-course/           The 쉬운 영어듣기                      2\n",
              "172.23.204.13  j-course-premium/   The 쉬운 영어독해 Ⅰ                    2\n",
              "172.23.204.23  j-lecture-premium/  중학수학 뜀틀 개념편 중1(상)(2021년)         2\n",
              "172.23.204.24  j-course/           The 쉬운 영문법 Ⅱ                     2\n",
              "172.23.204.13  j-course/           The 쉬운 영문법 Ⅱ                     2\n",
              "                                   들판이 적막하다                         2\n",
              "172.23.204.23  j-course/           중학수학 뜀틀 개념편 중1(상)(2021년)         2\n",
              "172.23.204.13  j-lecture/          중학수학 뜀틀 개념편 중1(상)(2021년)         2\n",
              "dtype: int64"
            ]
          },
          "metadata": {},
          "execution_count": 72
        }
      ]
    },
    {
      "cell_type": "code",
      "metadata": {
        "colab": {
          "base_uri": "https://localhost:8080/"
        },
        "id": "CeJR4E-hJOXQ",
        "outputId": "09d064c8-6fdd-49d3-fc63-f13b7f3b8455"
      },
      "source": [
        "# 500에러가 개별변수로 가장 많이 나는지 확인 (열기준)\n",
        "errorFinal['서버주소'].value_counts()"
      ],
      "execution_count": 74,
      "outputs": [
        {
          "output_type": "execute_result",
          "data": {
            "text/plain": [
              "172.23.204.13    222\n",
              "172.23.204.24    166\n",
              "172.23.204.23     91\n",
              "172.23.204.14     13\n",
              "Name: 서버주소, dtype: int64"
            ]
          },
          "metadata": {},
          "execution_count": 74
        }
      ]
    },
    {
      "cell_type": "code",
      "metadata": {
        "colab": {
          "base_uri": "https://localhost:8080/"
        },
        "id": "KxEOJB2eKGvz",
        "outputId": "ff581f93-2e30-4a99-d0f6-177e4bb7b990"
      },
      "source": [
        "errorFinal['url'].value_counts()"
      ],
      "execution_count": 75,
      "outputs": [
        {
          "output_type": "execute_result",
          "data": {
            "text/plain": [
              "j-course/             111\n",
              "j-lecture/             96\n",
              "j-course-premium/      96\n",
              "j-lecture-premium/     95\n",
              "p-lecture/             48\n",
              "p-course/              46\n",
              "Name: url, dtype: int64"
            ]
          },
          "metadata": {},
          "execution_count": 75
        }
      ]
    },
    {
      "cell_type": "code",
      "metadata": {
        "colab": {
          "base_uri": "https://localhost:8080/"
        },
        "id": "HcW40yomKLy4",
        "outputId": "5015595e-d1ad-40e5-dd2f-155267ab3ac7"
      },
      "source": [
        "errorFinal['검색어'].value_counts()"
      ],
      "execution_count": 76,
      "outputs": [
        {
          "output_type": "execute_result",
          "data": {
            "text/plain": [
              "The 쉬운 영문법 Ⅰ                55\n",
              "The 쉬운 영문법                  36\n",
              "The 쉬운 영어듣기                 25\n",
              "중학수학 뜀틀 개념편 중1(상)(2021년)    21\n",
              "더쉬운영문법                      19\n",
              "                            ..\n",
              "중학 과학 끝장 내기                  1\n",
              "정승익 더 쉬운 영문                  1\n",
              "옛날이웃                         1\n",
              "더 쉬운영문법                      1\n",
              "개코수학                         1\n",
              "Name: 검색어, Length: 96, dtype: int64"
            ]
          },
          "metadata": {},
          "execution_count": 76
        }
      ]
    },
    {
      "cell_type": "code",
      "metadata": {
        "id": "5-DDY6qvKP-w"
      },
      "source": [
        "\n"
      ],
      "execution_count": null,
      "outputs": []
    }
  ]
}