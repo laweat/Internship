{
 "cells": [
  {
   "cell_type": "code",
   "execution_count": 1,
   "id": "6f7768a3-f05e-49af-ba6d-e74c36ba7761",
   "metadata": {},
   "outputs": [],
   "source": [
    "import re\n",
    "import sys\n",
    "from urllib.request import urlopen"
   ]
  },
  {
   "cell_type": "code",
   "execution_count": 2,
   "id": "b86b823b-aa5f-4fb4-af53-554455df2e4f",
   "metadata": {},
   "outputs": [],
   "source": [
    "f = urlopen(\"http://www.hanbit.co.kr/store/books/full_book_list.html\")\n",
    "bytes_content = f.read()"
   ]
  },
  {
   "cell_type": "code",
   "execution_count": 3,
   "id": "d062ade5-74b9-4bff-8acc-3e3256e40b90",
   "metadata": {},
   "outputs": [],
   "source": [
    " scanned_text = bytes_content[:1024].decode(\"ascii\", errors = \"replace\")"
   ]
  },
  {
   "cell_type": "code",
   "execution_count": 6,
   "id": "295c072e-1893-4c1b-bbf9-468d23537f8d",
   "metadata": {},
   "outputs": [],
   "source": [
    "match = re.search(r'charset=[\"\\']?([\\w-]+)',scanned_text)"
   ]
  },
  {
   "cell_type": "code",
   "execution_count": 7,
   "id": "4b01a489-86d4-4cf7-9535-f7f707444557",
   "metadata": {},
   "outputs": [
    {
     "data": {
      "text/plain": [
       "'utf-8'"
      ]
     },
     "execution_count": 7,
     "metadata": {},
     "output_type": "execute_result"
    }
   ],
   "source": [
    "match.group(1)"
   ]
  },
  {
   "cell_type": "code",
   "execution_count": 8,
   "id": "74ce7dc5-bc14-43c3-b97a-6e5026587fdd",
   "metadata": {},
   "outputs": [],
   "source": [
    "if match:\n",
    "    encoding = match.group(1)\n",
    "else:\n",
    "    encoding = \"utf-8\""
   ]
  }
 ],
 "metadata": {
  "kernelspec": {
   "display_name": "Python 3",
   "language": "python",
   "name": "python3"
  },
  "language_info": {
   "codemirror_mode": {
    "name": "ipython",
    "version": 3
   },
   "file_extension": ".py",
   "mimetype": "text/x-python",
   "name": "python",
   "nbconvert_exporter": "python",
   "pygments_lexer": "ipython3",
   "version": "3.8.8"
  }
 },
 "nbformat": 4,
 "nbformat_minor": 5
}
