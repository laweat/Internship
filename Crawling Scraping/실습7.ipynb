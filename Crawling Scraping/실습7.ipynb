{
 "cells": [
  {
   "cell_type": "code",
   "execution_count": null,
   "id": "21b6caf2-1489-4ee4-8dc3-3059306e7811",
   "metadata": {},
   "outputs": [],
   "source": [
    "!pip install selenium"
   ]
  },
  {
   "cell_type": "code",
   "execution_count": 38,
   "id": "15f2d787-f836-4bc7-8b08-b332944dd77a",
   "metadata": {},
   "outputs": [],
   "source": [
    "from selenium.webdriver import Chrome\n",
    "import time\n",
    "import sqlite3\n",
    "from pandas.io import sql\n",
    "import os\n",
    "import pandas as pd"
   ]
  },
  {
   "cell_type": "code",
   "execution_count": 39,
   "id": "fc7355cc-c001-4be0-ace1-0e72ab2e9683",
   "metadata": {},
   "outputs": [],
   "source": [
    "from selenium import webdriver\n",
    "\n",
    "options = webdriver.ChromeOptions()\n",
    "options.add_argument(\"--start-maximized\");\n",
    "\n",
    "browser = webdriver.Chrome(\"chromedriver\", options=options)"
   ]
  },
  {
   "cell_type": "code",
   "execution_count": 40,
   "id": "ba372797-3afd-43b5-8a5a-e8ddcd663b78",
   "metadata": {},
   "outputs": [],
   "source": [
    "browser.get(\"https://www.data.go.kr/\")\n",
    "browser.implicitly_wait(5)"
   ]
  },
  {
   "cell_type": "code",
   "execution_count": 41,
   "id": "d2bd62e8-0c42-42bd-a59b-72ed72765eaa",
   "metadata": {},
   "outputs": [],
   "source": [
    "browser.find_element_by_xpath('//*[@id=\"header\"]/div/div/div/div[2]/div/a[1]').click()\n",
    "browser.implicitly_wait(5)"
   ]
  },
  {
   "cell_type": "code",
   "execution_count": 42,
   "id": "4ec2bd8c-e3fb-4ebf-9d22-b042f5eafadd",
   "metadata": {},
   "outputs": [],
   "source": [
    "browser.find_element_by_xpath('//*[@id=\"mberId\"]').send_keys(\"rbdnjs6300\")"
   ]
  },
  {
   "cell_type": "code",
   "execution_count": 43,
   "id": "45bfd7ef-ca11-4989-817c-82911f12b981",
   "metadata": {},
   "outputs": [],
   "source": [
    "browser.find_element_by_xpath('//*[@id=\"pswrd\"]').send_keys(\"*********\")#실습땐 제대로 진행하였습니다."
   ]
  },
  {
   "cell_type": "code",
   "execution_count": 44,
   "id": "80ffa595-0d31-45f9-a80c-aa88dc0fa378",
   "metadata": {},
   "outputs": [],
   "source": [
    "browser.find_element_by_xpath('//*[@id=\"loginVo\"]/div[2]/div[2]/div[2]/div/div[1]/button').click()\n",
    "browser.implicitly_wait(5)"
   ]
  },
  {
   "cell_type": "code",
   "execution_count": 45,
   "id": "a692e362-e68a-437a-845f-7378271cfc2c",
   "metadata": {},
   "outputs": [],
   "source": [
    "browser.find_element_by_xpath('//*[@id=\"M000400_pc\"]/a').click()\n",
    "browser.implicitly_wait(5)"
   ]
  },
  {
   "cell_type": "code",
   "execution_count": 46,
   "id": "cb42dc75-581b-46be-bec7-a82b96201f24",
   "metadata": {},
   "outputs": [],
   "source": [
    "browser.find_element_by_xpath('//*[@id=\"M000402_pc\"]/a').click()\n",
    "browser.implicitly_wait(5)"
   ]
  },
  {
   "cell_type": "code",
   "execution_count": 36,
   "id": "7952ccbb-4097-40b4-b499-a9bfd64ea6df",
   "metadata": {},
   "outputs": [
    {
     "name": "stdout",
     "output_type": "stream",
     "text": [
      "    NO                                              TITLE   IQRY       REGDT       CHGDT\n",
      "0  756                          기타 범정부 데이터 표준용어통합 도구 파일첨부  1,999  2021-07-05  2021-07-05\n",
      "0  755                         기타 개방데이터(파일) 진단·정비 도구 파일첨부    215  2021-07-05  2021-07-06\n",
      "0  754               뉴스레터 [공공데이터 NOW] 공공데이터 뉴스레터 77호 파일첨부    261  2021-07-01  2021-07-01\n",
      "0  753   교육&이용안내 [국세청] 사업자등록 상태조회 서비스 오픈API 테스트 프로그램 파일첨부  1,150  2021-06-28  2021-07-12\n",
      "0  750      법령(고시)&지침 「공공기관의 데이터베이스 표준화 지침」 개정 고시 안내 파일첨부    556  2021-06-07  2021-07-09\n",
      "0  749  기타 공공데이터 해외동향지 제26호(2020 EU 오픈데이터 성숙도 보고서 주요내용...     90  2021-06-04  2021-06-04\n",
      "0  748               뉴스레터 [공공데이터 NOW] 공공데이터 뉴스레터 76호 파일첨부    363  2021-05-28  2021-05-28\n",
      "0  747  기타 [공공데이터 활용기업 사례집] 디지털뉴딜 시대! 공공데이터 가치, 창업과 같이...    227  2021-05-24  2021-05-24\n",
      "0  746                   뉴스레터 [공공데이터 NOW] 뉴스레터 제 75호 파일첨부    423  2021-04-30  2021-04-30\n",
      "0  744               뉴스레터 [공공데이터 NOW] 공공데이터 뉴스레터 74호 파일첨부    446  2021-03-31  2021-03-31\n"
     ]
    }
   ],
   "source": [
    "trs = browser.find_elements_by_xpath('//*[@id=\"searchVO\"]/div[5]/table/tbody/tr')\n",
    "dfList = []\n",
    "for tr in trs:\n",
    "    df = pd.DataFrame({\n",
    "        \"NO\":[tr.find_element_by_xpath(\"td[1]\").text],\n",
    "        \"TITLE\":[tr.find_element_by_xpath(\"td[2]\").text],\n",
    "        \"IQRY\":[tr.find_element_by_xpath(\"td[3]\").text],\n",
    "        \"REGDT\":[tr.find_element_by_xpath(\"td[4]\").text],\n",
    "        \"CHGDT\":[tr.find_element_by_xpath(\"td[5]\").text]\n",
    "    })\n",
    "    dfList.append(df)\n",
    "\n",
    "articleList = pd.concat(dfList)\n",
    "print(articleList)\n",
    "# dfSave(articleList)"
   ]
  },
  {
   "cell_type": "code",
   "execution_count": 48,
   "id": "3304a484-479c-4aeb-9973-252556562531",
   "metadata": {},
   "outputs": [],
   "source": [
    "browser.find_element_by_xpath('//*[@id=\"searchVO\"]/div[5]/table/tbody/tr[1]/td[2]/a').click()\n",
    "browser.implicitly_wait(5)"
   ]
  },
  {
   "cell_type": "code",
   "execution_count": 49,
   "id": "78659e05-0ada-4f4f-9f39-e73be4c28b73",
   "metadata": {},
   "outputs": [],
   "source": [
    "browser.find_element_by_xpath('//*[@id=\"recsroomDetail\"]/div[2]/div[4]/div/a').click()\n",
    "browser.implicitly_wait(5)"
   ]
  },
  {
   "cell_type": "code",
   "execution_count": 50,
   "id": "672dc098-f19f-49b5-9d7e-8972eb6bdcf1",
   "metadata": {},
   "outputs": [],
   "source": [
    "browser.quit()"
   ]
  },
  {
   "cell_type": "code",
   "execution_count": 51,
   "id": "ff82a6b9-3fb3-45d8-a672-af1944bcec12",
   "metadata": {},
   "outputs": [],
   "source": [
    "#headless 기능이용"
   ]
  },
  {
   "cell_type": "code",
   "execution_count": 52,
   "id": "6d5ba5c7-c67a-4bcb-8aa0-5d87bbddcd59",
   "metadata": {},
   "outputs": [],
   "source": [
    "from selenium import webdriver\n",
    "\n",
    "options = webdriver.ChromeOptions()\n",
    "options.add_argument(\"--headless\")\n",
    "options.add_argument(\"--dosable-gpu\")\n",
    "options.add_argument(\"--window-size=1280x1024\")\n",
    "\n",
    "browser = webdriver.Chrome(\"chromedriver\",options=options)"
   ]
  },
  {
   "cell_type": "code",
   "execution_count": null,
   "id": "886b0910-e3bd-490b-a322-2cfc87219d1a",
   "metadata": {},
   "outputs": [],
   "source": []
  }
 ],
 "metadata": {
  "kernelspec": {
   "display_name": "Python 3",
   "language": "python",
   "name": "python3"
  },
  "language_info": {
   "codemirror_mode": {
    "name": "ipython",
    "version": 3
   },
   "file_extension": ".py",
   "mimetype": "text/x-python",
   "name": "python",
   "nbconvert_exporter": "python",
   "pygments_lexer": "ipython3",
   "version": "3.8.8"
  }
 },
 "nbformat": 4,
 "nbformat_minor": 5
}
