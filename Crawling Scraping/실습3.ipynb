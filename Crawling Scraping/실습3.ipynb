{
 "cells": [
  {
   "cell_type": "code",
   "execution_count": null,
   "id": "ec1a94da-7efa-4f78-a9c3-f6c8d27bfd34",
   "metadata": {},
   "outputs": [],
   "source": [
    "# daum 크롤링 실습"
   ]
  },
  {
   "cell_type": "code",
   "execution_count": 1,
   "id": "789d9fd6-4d63-4f5e-a2c0-e7bc3f9a4e9d",
   "metadata": {},
   "outputs": [],
   "source": [
    "import requests\n",
    "import lxml.html\n",
    "import pandas as pd\n",
    "import sqlite3\n",
    "from pandas.io import sql\n",
    "import os"
   ]
  },
  {
   "cell_type": "code",
   "execution_count": 6,
   "id": "ca1eadac-a874-4eb8-ab61-5f93f973dc94",
   "metadata": {},
   "outputs": [],
   "source": [
    "REG_DATE = \"20210715\""
   ]
  },
  {
   "cell_type": "code",
   "execution_count": 10,
   "id": "eaddf75b-6ff2-4760-a00a-3b4c796494ce",
   "metadata": {},
   "outputs": [
    {
     "name": "stdout",
     "output_type": "stream",
     "text": [
      "https://v.daum.net/v/20210715111958239 썸에이지, 신작 '크로우즈' 개발 영상 공개\n",
      "https://v.daum.net/v/20210715111726111 'KERI-워털루대 창원인공지능센터' 설립 1주년 성과 톡톡\n",
      "https://v.daum.net/v/20210715111711092 [게시판] 부산 e스포츠 팬 대항전\n",
      "https://v.daum.net/v/20210715111604024 미디움 \"한국조폐공사 블록체인 테스트 베드 환경구축 수행기관 최종 선정\"\n",
      "https://v.daum.net/v/20210715111553018 플레이스에이·아이오트러스트, AI 기술 기반 암호화폐 지갑 개발 위한 MOA 체결\n",
      "https://v.daum.net/v/20210715111551016 '부릉' 메쉬코리아, 오아시스마켓과 퀵 커머스 협공 나선다\n",
      "https://v.daum.net/v/20210715111527002 방통위 적극 찬성, 공정위는 국회 존중..인앱결제강제 방지 온도차\n",
      "https://v.daum.net/v/20210715111521998 LG유플러스, 日 KDDI와 5G·6G 협력 강화한다\n",
      "https://v.daum.net/v/20210715111435915 LG유플러스, 日 KDDI와 5G·6G 협력 강화\n",
      "https://v.daum.net/v/20210715111303849 넥슨재단, 제1회 '보더리스 공모전: PLAY판' 실시\n",
      "https://v.daum.net/v/20210715111257847 [AI]\"지니야 삼다수 주문해줘\"..음성명령으로 원스톱 생수구매\n",
      "https://v.daum.net/v/20210715111205816 \"너무 덥다\"..이른 폭염에 에어컨 불티나게 팔려\n",
      "https://v.daum.net/v/20210715111127774 NDS, 블록체인 기반 코로나19 검사 결과 확인 과제 수행\n",
      "https://v.daum.net/v/20210715111118763 코로나블루, 디지털 치료제로 해결한다\n",
      "https://v.daum.net/v/20210715111003696 경남제약, 래피젠과 코로나19 자가검사키트 판매 계약 체결\n"
     ]
    }
   ],
   "source": [
    "res = requests.get(\"https://news.daum.net/breakingnews/digital?regDate={}\".format(REG_DATE))\n",
    "root = lxml.html.fromstring(res.content)\n",
    "\n",
    "for li in root.xpath('//*[@id=\"mArticle\"]/div[3]/ul/li'):\n",
    "    a = li.xpath(\"div/strong/a\")[0]\n",
    "    url = a.get(\"href\")\n",
    "    print(url,a.text)"
   ]
  },
  {
   "cell_type": "code",
   "execution_count": null,
   "id": "0a27f467-ce43-4bd2-b936-1810a6788193",
   "metadata": {},
   "outputs": [],
   "source": []
  }
 ],
 "metadata": {
  "kernelspec": {
   "display_name": "Python 3",
   "language": "python",
   "name": "python3"
  },
  "language_info": {
   "codemirror_mode": {
    "name": "ipython",
    "version": 3
   },
   "file_extension": ".py",
   "mimetype": "text/x-python",
   "name": "python",
   "nbconvert_exporter": "python",
   "pygments_lexer": "ipython3",
   "version": "3.8.8"
  }
 },
 "nbformat": 4,
 "nbformat_minor": 5
}
