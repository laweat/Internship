{
 "cells": [
  {
   "cell_type": "code",
   "execution_count": 1,
   "id": "3fb7205a-2d75-40cb-9494-db95bba8967c",
   "metadata": {},
   "outputs": [],
   "source": [
    "import csv"
   ]
  },
  {
   "cell_type": "code",
   "execution_count": 3,
   "id": "fbe489cd-c2ba-4c01-8604-3204a600619c",
   "metadata": {},
   "outputs": [],
   "source": [
    "with open(\"top_cities.csv\",\"w\",newline = '', encoding=\"utf-8\") as f:\n",
    "    writer = csv.DictWriter(f, [\"rank\",\"city\",\"population\"])\n",
    "    writer.writeheader()\n",
    "    writer.writerows([\n",
    "        {\"rank\":1, \"city\":\"상하이\", \"population\":2415000},\n",
    "        {\"rank\":2, \"city\":\"카라치\", \"population\":2315000},\n",
    "        {\"rank\":3, \"city\":\"베이징\", \"population\":2115000},\n",
    "        {\"rank\":4, \"city\":\"텐진\", \"population\":1415000},\n",
    "        {\"rank\":5, \"city\":\"이스탄불\", \"population\":1465000},\n",
    "    ])"
   ]
  },
  {
   "cell_type": "code",
   "execution_count": 4,
   "id": "7470d34d-77b4-4529-b931-b82a8e085098",
   "metadata": {},
   "outputs": [],
   "source": [
    "import chardet"
   ]
  },
  {
   "cell_type": "code",
   "execution_count": 6,
   "id": "6a04244d-5706-4b26-89aa-f8e41f03833f",
   "metadata": {},
   "outputs": [],
   "source": [
    "charDic = chardet.detect(open(\"top_cities.csv\",\"rb\").read())"
   ]
  },
  {
   "cell_type": "code",
   "execution_count": 9,
   "id": "308cd304-d05d-40a9-9cac-357c97369b51",
   "metadata": {},
   "outputs": [
    {
     "data": {
      "text/plain": [
       "'utf-8'"
      ]
     },
     "execution_count": 9,
     "metadata": {},
     "output_type": "execute_result"
    }
   ],
   "source": [
    "charDic[\"encoding\"]"
   ]
  },
  {
   "cell_type": "code",
   "execution_count": 13,
   "id": "f30bab2c-f96e-4e18-bf9d-716e4d610ea6",
   "metadata": {},
   "outputs": [],
   "source": [
    "#json 형식으로 저장"
   ]
  },
  {
   "cell_type": "code",
   "execution_count": 14,
   "id": "350638ab-a21f-4555-9b24-051bd739dda7",
   "metadata": {},
   "outputs": [],
   "source": [
    "import json"
   ]
  },
  {
   "cell_type": "code",
   "execution_count": 16,
   "id": "d8218fa9-46c5-4e86-87c4-ce5ca46786e4",
   "metadata": {},
   "outputs": [],
   "source": [
    "cities = [    \n",
    "    {\"rank\":1, \"city\":\"상하이\", \"population\":2415000},\n",
    "    {\"rank\":2, \"city\":\"카라치\", \"population\":2315000},\n",
    "    {\"rank\":3, \"city\":\"베이징\", \"population\":2115000},\n",
    "    {\"rank\":4, \"city\":\"텐진\", \"population\":1415000},\n",
    "    {\"rank\":5, \"city\":\"이스탄불\", \"population\":1465000},\n",
    "]"
   ]
  },
  {
   "cell_type": "code",
   "execution_count": 17,
   "id": "df81d53a-07d2-40aa-882b-ec40f9170a01",
   "metadata": {},
   "outputs": [],
   "source": [
    "with open(\"top_cities.json\",\"w\") as fw:\n",
    "    json.dump(cities, fw)"
   ]
  },
  {
   "cell_type": "code",
   "execution_count": 18,
   "id": "c8cf584d-df30-4241-ab9f-98dda03fc642",
   "metadata": {},
   "outputs": [
    {
     "name": "stdout",
     "output_type": "stream",
     "text": [
      "[{'rank': 1, 'city': '상하이', 'population': 2415000}, {'rank': 2, 'city': '카라치', 'population': 2315000}, {'rank': 3, 'city': '베이징', 'population': 2115000}, {'rank': 4, 'city': '텐진', 'population': 1415000}, {'rank': 5, 'city': '이스탄불', 'population': 1465000}]\n"
     ]
    }
   ],
   "source": [
    "with open(\"top_cities.json\",\"r\") as fr:\n",
    "    jsonFile = json.load(fr)\n",
    "    print(jsonFile)"
   ]
  },
  {
   "cell_type": "code",
   "execution_count": 19,
   "id": "2c654af6-b0db-4c49-84ff-dee5101ff258",
   "metadata": {},
   "outputs": [],
   "source": [
    "#SQLite3 DBMS로 저장"
   ]
  },
  {
   "cell_type": "code",
   "execution_count": 20,
   "id": "d55ddc57-bb6e-43c7-905b-b0737f8affc2",
   "metadata": {},
   "outputs": [],
   "source": [
    "import pandas as pd\n",
    "import sqlite3 \n",
    "from pandas.io import sql\n",
    "import os"
   ]
  },
  {
   "cell_type": "code",
   "execution_count": 21,
   "id": "df7ac41c-6d35-4c50-a854-d41bc5334130",
   "metadata": {},
   "outputs": [],
   "source": [
    "dbName = \"topCities.db\"\n",
    "tableName = \"topCities\""
   ]
  },
  {
   "cell_type": "code",
   "execution_count": 22,
   "id": "b7880039-66ea-4909-a603-9e3c24e792d7",
   "metadata": {},
   "outputs": [],
   "source": [
    "def dbSave (df, dbName, tableName):\n",
    "    with sqlite3.connect(dbName) as con:\n",
    "        try:\n",
    "            df.to_sql(name = tableName, con = con, index = False, if_exists = \"append\")\n",
    "        except Exception as e :\n",
    "            print(str(e))\n",
    "        print(len(df),\"건 저장완료...\")"
   ]
  },
  {
   "cell_type": "code",
   "execution_count": 23,
   "id": "3ef045ee-8808-45ac-83ca-0eaa1ea345b8",
   "metadata": {},
   "outputs": [],
   "source": [
    "def dbSelect(dbName, tableName):\n",
    "    with sqlite3.connect(dbName) as con:\n",
    "        try:\n",
    "            query = \"SELECT * FROM {}\". format(tableName)\n",
    "            df = pd.readSql(query, con = con)\n",
    "        except Exception as e:\n",
    "            print(str(e))\n",
    "        return df"
   ]
  },
  {
   "cell_type": "code",
   "execution_count": 24,
   "id": "72feeab8-a430-4640-bde7-ccb0aa08aa7e",
   "metadata": {},
   "outputs": [],
   "source": [
    "def dbDelete(dbName, tableName):\n",
    "    with sqlite3.connect(dbName) as con:\n",
    "        try:\n",
    "            cur = con.curser()\n",
    "            sql = \"DELETE FROM {}\".format(tableName)\n",
    "            cur.execute(sql)\n",
    "        except Exception as e:\n",
    "            print(str(e))"
   ]
  },
  {
   "cell_type": "code",
   "execution_count": null,
   "id": "ce082b77-fcbb-4553-9be4-1e02e0ddb10c",
   "metadata": {},
   "outputs": [],
   "source": []
  }
 ],
 "metadata": {
  "kernelspec": {
   "display_name": "Python 3",
   "language": "python",
   "name": "python3"
  },
  "language_info": {
   "codemirror_mode": {
    "name": "ipython",
    "version": 3
   },
   "file_extension": ".py",
   "mimetype": "text/x-python",
   "name": "python",
   "nbconvert_exporter": "python",
   "pygments_lexer": "ipython3",
   "version": "3.8.8"
  }
 },
 "nbformat": 4,
 "nbformat_minor": 5
}
