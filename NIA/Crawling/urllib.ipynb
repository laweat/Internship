{
 "cells": [
  {
   "cell_type": "code",
   "execution_count": null,
   "id": "872bec3c-1f53-42e0-94c8-e5c71a94148b",
   "metadata": {},
   "outputs": [],
   "source": [
    "#실습파일 제출"
   ]
  },
  {
   "cell_type": "code",
   "execution_count": 2,
   "id": "4355c01a-9ddd-46b0-973b-2bd5c38b6e98",
   "metadata": {},
   "outputs": [],
   "source": [
    "from urllib.request import urlopen"
   ]
  },
  {
   "cell_type": "code",
   "execution_count": 3,
   "id": "e0f096aa-3f84-4a75-936b-0720676d6e06",
   "metadata": {},
   "outputs": [],
   "source": [
    "f = urlopen(\"http://hanbit.co.kr\")"
   ]
  },
  {
   "cell_type": "code",
   "execution_count": 4,
   "id": "2e05621f-d3b3-4235-bc17-fc523afd1f1c",
   "metadata": {},
   "outputs": [
    {
     "data": {
      "text/plain": [
       "http.client.HTTPResponse"
      ]
     },
     "execution_count": 4,
     "metadata": {},
     "output_type": "execute_result"
    }
   ],
   "source": [
    "\n",
    "type(f)"
   ]
  },
  {
   "cell_type": "code",
   "execution_count": null,
   "id": "94bf75c5-3cfe-4154-99ac-f9ca454589ce",
   "metadata": {},
   "outputs": [],
   "source": [
    "f.read()"
   ]
  },
  {
   "cell_type": "code",
   "execution_count": 7,
   "id": "dc2c982f-22f4-4b67-b5de-d5e955d8b29b",
   "metadata": {},
   "outputs": [
    {
     "data": {
      "text/plain": [
       "200"
      ]
     },
     "execution_count": 7,
     "metadata": {},
     "output_type": "execute_result"
    }
   ],
   "source": [
    "f.status"
   ]
  },
  {
   "cell_type": "code",
   "execution_count": 8,
   "id": "f15331d8-30d6-4195-b165-3022cbb82233",
   "metadata": {},
   "outputs": [
    {
     "data": {
      "text/plain": [
       "'text/html; charset=UTF-8'"
      ]
     },
     "execution_count": 8,
     "metadata": {},
     "output_type": "execute_result"
    }
   ],
   "source": [
    "f.getheader(\"Content-Type\")"
   ]
  }
 ],
 "metadata": {
  "kernelspec": {
   "display_name": "Python 3",
   "language": "python",
   "name": "python3"
  },
  "language_info": {
   "codemirror_mode": {
    "name": "ipython",
    "version": 3
   },
   "file_extension": ".py",
   "mimetype": "text/x-python",
   "name": "python",
   "nbconvert_exporter": "python",
   "pygments_lexer": "ipython3",
   "version": "3.8.8"
  }
 },
 "nbformat": 4,
 "nbformat_minor": 5
}
