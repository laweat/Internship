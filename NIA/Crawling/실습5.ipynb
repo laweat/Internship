{
 "cells": [
  {
   "cell_type": "code",
   "execution_count": null,
   "id": "634e0499-293e-4788-a813-b50cce9b784a",
   "metadata": {},
   "outputs": [],
   "source": [
    "#daum 뉴스페이지 마지막페이지까지 이동\n",
    "max_page = 0\n",
    "while True:\n",
    "    for i in root.xpath('//*[@id=\"mArticle\"]/div/div/span/a'):\n",
    "        try:\n",
    "            num = int(i.text)\n",
    "            if max_page < num:\n",
    "                max_page = num\n",
    "        except:\n",
    "            pass\n",
    "    \n",
    "    #마지막 페이지 확인\n",
    "    span = root.xpath('//*[@id=\"mArticle\"]/div/div/span/a[@class=\"btn_page_next\"]')\n",
    "    \n",
    "    if(len(span)<=0) & (page > max_page):\n",
    "        break\n",
    "    else:\n",
    "        page += 1\n",
    "    time.sleep(1)"
   ]
  },
  {
   "cell_type": "code",
   "execution_count": null,
   "id": "ca8aea23-8f18-40af-8b5b-d98decde7314",
   "metadata": {},
   "outputs": [],
   "source": [
    "#db적용"
   ]
  },
  {
   "cell_type": "code",
   "execution_count": null,
   "id": "b09fe019-2077-4049-ad5c-8b855ad1b7d6",
   "metadata": {},
   "outputs": [],
   "source": [
    "def dbSave(newsList):\n",
    "    with sqlite3.connect(os.path.join(\".\",\"sqliteDB\")) as con:\n",
    "        try:\n",
    "            newsList.to_sql(name = \"newsList\", con = con, index =False, if_exists = \"append\")\n",
    "        except Exception as e:\n",
    "            print(str(e))\n",
    "        print(len(newList),\"건 저장완료...\")"
   ]
  },
  {
   "cell_type": "code",
   "execution_count": null,
   "id": "50732995-fe63-4034-a249-a0166403baf9",
   "metadata": {},
   "outputs": [],
   "source": [
    "def dbSelect():\n",
    "    with sqlite3.connect(os.path.join(\".\",\"sqliteDB\")) as con:\n",
    "        try:\n",
    "            query = \"SELECT * FROM newsList\"\n",
    "            newsList = pd.readSql(query, con = con)\n",
    "        except Exception as e:\n",
    "            print(str(e))\n",
    "        return newsList"
   ]
  },
  {
   "cell_type": "code",
   "execution_count": null,
   "id": "5b462c4f-79a5-4846-a8d6-a8a021a80835",
   "metadata": {},
   "outputs": [],
   "source": [
    "def dbDelete():\n",
    "    with sqlite3.connect(os.path.join(\".\",\"sqliteDB\")) as con:\n",
    "        try:\n",
    "            cur = con.curser()\n",
    "            sql = \"DELETE FROM newsList\"\n",
    "            cur.execute(sql)\n",
    "        except Exception as e:\n",
    "            print(str(e))"
   ]
  }
 ],
 "metadata": {
  "kernelspec": {
   "display_name": "Python 3",
   "language": "python",
   "name": "python3"
  },
  "language_info": {
   "codemirror_mode": {
    "name": "ipython",
    "version": 3
   },
   "file_extension": ".py",
   "mimetype": "text/x-python",
   "name": "python",
   "nbconvert_exporter": "python",
   "pygments_lexer": "ipython3",
   "version": "3.8.8"
  }
 },
 "nbformat": 4,
 "nbformat_minor": 5
}
