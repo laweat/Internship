{
 "cells": [
  {
   "cell_type": "code",
   "execution_count": 7,
   "id": "b2cfb614-4cb2-4f33-a3a6-5ac214ca9734",
   "metadata": {},
   "outputs": [],
   "source": [
    "from selenium.webdriver import Chrome\n",
    "import time\n",
    "import sqlite3\n",
    "from pandas.io import sql\n",
    "import os\n",
    "import pandas as pd\n",
    "import matplotlib as mpl\n",
    "import matplotlib.pyplot as plt"
   ]
  },
  {
   "cell_type": "code",
   "execution_count": 8,
   "id": "a9842145-4d6c-473b-af34-ed2164c8284f",
   "metadata": {},
   "outputs": [],
   "source": [
    "from selenium import webdriver\n",
    "\n",
    "options = webdriver.ChromeOptions()\n",
    "options.add_argument(\"--start-maximized\");\n",
    "\n",
    "browser = webdriver.Chrome(\"chromedriver\", options=options)"
   ]
  },
  {
   "cell_type": "code",
   "execution_count": 9,
   "id": "61a2ef88-c511-4fc5-8e31-9c6482cbbcaa",
   "metadata": {},
   "outputs": [],
   "source": [
    "#서울민원 데이터 \n",
    "browser.get(\"https://democracy.seoul.go.kr/front/allSuggest/list.do?sn2=&searchCondition2=&searchCondition3=&searchCondition4=&hashTag=&sKind=M&suggestask_sn=&sDiscussionSn=&sPracticeSn=&sSuggest_divi=&reCom=&reComList_1=%EC%BD%94%EB%A1%9C%EB%82%9819+%EB%B0%94%EC%9D%B4%EB%9F%AC%EC%8A%A4&sKeyword=&pageIndex=1\")\n",
    "browser.implicitly_wait(5)\n",
    "\n"
   ]
  },
  {
   "cell_type": "code",
   "execution_count": null,
   "id": "7ac7aa77-4784-45cc-9b82-e933d11f3921",
   "metadata": {},
   "outputs": [],
   "source": [
    "articleList = []\n",
    "dfList = []\n",
    "\n",
    "for y in range(10):\n",
    "    for x in range(2,11):\n",
    "        for i in range(1,13):\n",
    "            review = browser.find_elements_by_xpath(f'//*[@id=\"suggList_{i}\"]')\n",
    "\n",
    "            for tmp in review:\n",
    "                df = pd.DataFrame({\n",
    "                    \"NO\":[tmp.find_element_by_xpath('p[2]').text],\n",
    "\n",
    "                })\n",
    "            dfList.append(df)\n",
    "\n",
    "            articleList = pd.concat(dfList)\n",
    "\n",
    "        browser.find_element_by_xpath(f'//*[@id=\"content\"]/div[3]/div[2]/span/a[{x}]').click()\n",
    "        browser.implicitly_wait(10)\n",
    "    browser.find_element_by_xpath('//*[@id=\"content\"]/div[3]/div[2]/a[3]').click()\n",
    "    browser.implicitly_wait(10)"
   ]
  },
  {
   "cell_type": "code",
   "execution_count": null,
   "id": "fa75d469-f7ad-42ea-98ad-9305ba2771cd",
   "metadata": {},
   "outputs": [],
   "source": [
    "#데이터 확인\n",
    "articleList = pd.concat(dfList)"
   ]
  },
  {
   "cell_type": "code",
   "execution_count": null,
   "id": "66b302ac-14d2-41c5-b5be-76534a6e7e30",
   "metadata": {},
   "outputs": [],
   "source": [
    "articleList"
   ]
  },
  {
   "cell_type": "code",
   "execution_count": null,
   "id": "0e4c79ba-72f7-447c-ada0-4b3164b36161",
   "metadata": {},
   "outputs": [],
   "source": [
    "#데이터 처리(한글, 공백 제외)\n",
    "import re\n",
    "\n",
    "articleList[\"NO\"] = articleList[\"NO\"].apply(lambda x: re.sub(\"[^가-힣\\s]\",\"\",x))\n",
    "articleList"
   ]
  },
  {
   "cell_type": "code",
   "execution_count": null,
   "id": "260e6170-c9bc-429d-a125-0c706c1145a2",
   "metadata": {},
   "outputs": [],
   "source": [
    "#공백 row 삭제\n",
    "\n",
    "articleList = articleList[articleList[\"NO\"].apply(lambda x: re.sub(\"[^가-힣]\",\"\",x)) !=\"\"]\n",
    "articleList"
   ]
  },
  {
   "cell_type": "code",
   "execution_count": null,
   "id": "3f03245e-1d2d-4711-b2bd-64ecfb7d2605",
   "metadata": {},
   "outputs": [],
   "source": [
    "#WordExtractor로 단어 점수 학습\n",
    "\n",
    "from soynlp.word import WordExtractor\n",
    "\n",
    "word_extractor = WordExtractor(min_frequency=100,\n",
    "    min_cohesion_forward=0.05, \n",
    "    min_right_branching_entropy=0.0\n",
    ")\n",
    "word_extractor.train(articleList[\"NO\"].values)\n",
    "words = word_extractor.extract()\n",
    "words"
   ]
  },
  {
   "cell_type": "code",
   "execution_count": null,
   "id": "21a7b7f7-4076-4a00-96de-6b7bd657c1a3",
   "metadata": {},
   "outputs": [],
   "source": [
    "#Tokenizer (L-R 분리)\n",
    "\n",
    "from soynlp.tokenizer import LTokenizer\n",
    "from soynlp.word import WordExtractor\n",
    "from soynlp.utils import DoublespaceLineCorpus\n",
    "\n",
    "cohesion_score = {word:score.cohesion_forward for word, score in words.items()}\n",
    "tokenizer = LTokenizer(scores=cohesion_score)"
   ]
  },
  {
   "cell_type": "code",
   "execution_count": null,
   "id": "ab26a1ef-19ba-4cd2-a43e-d9818749f652",
   "metadata": {},
   "outputs": [],
   "source": [
    "articleList[\"tokenizer\"] = articleList[\"NO\"].apply(lambda x: tokenizer.tokenize(x, remove_r=True))\n",
    "articleList"
   ]
  },
  {
   "cell_type": "code",
   "execution_count": null,
   "id": "c5532113-f9c5-44c4-9492-d0d8aa6295da",
   "metadata": {},
   "outputs": [],
   "source": [
    "#각각의 단어들을 words변수에 append 작업\n",
    "\n",
    "words = []\n",
    "for i in articleList[\"tokenizer\"].values:\n",
    "    for k in i:\n",
    "        words.append(k)\n",
    "words"
   ]
  },
  {
   "cell_type": "code",
   "execution_count": null,
   "id": "6687bc21-4ab1-4384-bf2c-2e3f71abda83",
   "metadata": {},
   "outputs": [],
   "source": [
    "#각각의 단어들을 counter를 사용하여 빈도수를 확인\n",
    "\n",
    "from collections import Counter\n",
    "cnt = Counter(words)\n",
    "words = dict(cnt)\n",
    "words"
   ]
  },
  {
   "cell_type": "code",
   "execution_count": null,
   "id": "37e104bd-6fd8-4125-ba2f-6b5936056c9c",
   "metadata": {},
   "outputs": [],
   "source": [
    "#내림차순으로 정렬\n",
    "\n",
    "rank = sorted(words.items(),reverse=True,key=lambda item: item[1])"
   ]
  },
  {
   "cell_type": "code",
   "execution_count": null,
   "id": "6c46141c-905e-4508-a78b-54204ada8988",
   "metadata": {},
   "outputs": [],
   "source": [
    "#불법주정차 관련 빈도수 분석\n",
    "\n",
    "for i in range(len(rank)):\n",
    "    print(i+1,\"위: \",rank[i])"
   ]
  },
  {
   "cell_type": "code",
   "execution_count": null,
   "id": "c11c864c-9a1f-45ca-ae64-7c9239a5eff3",
   "metadata": {},
   "outputs": [],
   "source": [
    "#wordcloud 시각화 진행\n",
    "\n",
    "from wordcloud import WordCloud\n",
    "wordcloud = WordCloud(height = 500, width=500,background_color=\"white\")\\\n",
    "                      .generate_from_frequencies(words)"
   ]
  },
  {
   "cell_type": "code",
   "execution_count": null,
   "id": "534d5ab3-9420-4482-a2d8-7270e7e7b4cf",
   "metadata": {},
   "outputs": [],
   "source": [
    "wordcloud = WordCloud(font_path = 'C:/Windows/Fonts/malgun.ttf', background_color='white', width=500, height=500).generate_from_frequencies(words)"
   ]
  },
  {
   "cell_type": "code",
   "execution_count": null,
   "id": "724c1af6-0722-43c4-934f-eeb2606d56f7",
   "metadata": {},
   "outputs": [],
   "source": [
    "#wordcloud 시각화\n",
    "\n",
    "plt.figure(figsize=(10,10))\n",
    "plt.axis(\"off\")\n",
    "plt.imshow(wordcloud)\n",
    "plt.show()"
   ]
  }
 ],
 "metadata": {
  "kernelspec": {
   "display_name": "Python 3",
   "language": "python",
   "name": "python3"
  },
  "language_info": {
   "codemirror_mode": {
    "name": "ipython",
    "version": 3
   },
   "file_extension": ".py",
   "mimetype": "text/x-python",
   "name": "python",
   "nbconvert_exporter": "python",
   "pygments_lexer": "ipython3",
   "version": "3.8.8"
  }
 },
 "nbformat": 4,
 "nbformat_minor": 5
}
